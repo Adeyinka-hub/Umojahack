{
  "nbformat": 4,
  "nbformat_minor": 0,
  "metadata": {
    "colab": {
      "name": "umojahack.ipynb",
      "provenance": [],
      "collapsed_sections": [],
      "mount_file_id": "1gEgalWQvL5qGdTBdZT0m8YYpIRqj8yJy",
      "authorship_tag": "ABX9TyMhmLZO07lwVXFwstwMDPKj",
      "include_colab_link": true
    },
    "kernelspec": {
      "name": "python3",
      "display_name": "Python 3"
    }
  },
  "cells": [
    {
      "cell_type": "markdown",
      "metadata": {
        "id": "view-in-github",
        "colab_type": "text"
      },
      "source": [
        "<a href=\"https://colab.research.google.com/github/Josepholaidepetro/Umojahack/blob/main/umojahack.ipynb\" target=\"_parent\"><img src=\"https://colab.research.google.com/assets/colab-badge.svg\" alt=\"Open In Colab\"/></a>"
      ]
    },
    {
      "cell_type": "code",
      "metadata": {
        "id": "ptELAoqdz1bP"
      },
      "source": [
        "import pandas as pd\n",
        "import numpy as np\n",
        "import seaborn as sns\n",
        "import matplotlib.pyplot as plt\n",
        "%matplotlib inline\n",
        "import math"
      ],
      "execution_count": 1,
      "outputs": []
    },
    {
      "cell_type": "markdown",
      "metadata": {
        "id": "16ztjYQl9z39"
      },
      "source": [
        "# LOAD DATA"
      ]
    },
    {
      "cell_type": "code",
      "metadata": {
        "id": "BqxG2pcS0wO6"
      },
      "source": [
        "build_data=pd.read_csv(r'/content/drive/MyDrive/umoja data/UHNigeria/Train.csv')\n",
        "test_data=pd.read_csv(r'/content/drive/MyDrive/umoja data/UHNigeria/Test.csv')\n",
        "var_descr = pd.read_csv(r'/content/drive/MyDrive/umoja data/UHNigeria/VariableDefinitions.csv')"
      ],
      "execution_count": 2,
      "outputs": []
    },
    {
      "cell_type": "code",
      "metadata": {
        "colab": {
          "base_uri": "https://localhost:8080/",
          "height": 167
        },
        "id": "g0abUwCY9uV-",
        "outputId": "444755a5-39e6-49df-a4ab-d2f12514e27b"
      },
      "source": [
        "build_data.head(2)"
      ],
      "execution_count": 3,
      "outputs": [
        {
          "output_type": "execute_result",
          "data": {
            "text/html": [
              "<div>\n",
              "<style scoped>\n",
              "    .dataframe tbody tr th:only-of-type {\n",
              "        vertical-align: middle;\n",
              "    }\n",
              "\n",
              "    .dataframe tbody tr th {\n",
              "        vertical-align: top;\n",
              "    }\n",
              "\n",
              "    .dataframe thead th {\n",
              "        text-align: right;\n",
              "    }\n",
              "</style>\n",
              "<table border=\"1\" class=\"dataframe\">\n",
              "  <thead>\n",
              "    <tr style=\"text-align: right;\">\n",
              "      <th></th>\n",
              "      <th>ID</th>\n",
              "      <th>Policy Start Date</th>\n",
              "      <th>Policy End Date</th>\n",
              "      <th>Gender</th>\n",
              "      <th>Age</th>\n",
              "      <th>First Transaction Date</th>\n",
              "      <th>No_Pol</th>\n",
              "      <th>Car_Category</th>\n",
              "      <th>Subject_Car_Colour</th>\n",
              "      <th>Subject_Car_Make</th>\n",
              "      <th>LGA_Name</th>\n",
              "      <th>State</th>\n",
              "      <th>ProductName</th>\n",
              "      <th>target</th>\n",
              "    </tr>\n",
              "  </thead>\n",
              "  <tbody>\n",
              "    <tr>\n",
              "      <th>0</th>\n",
              "      <td>0040R73</td>\n",
              "      <td>2010-05-14</td>\n",
              "      <td>2011-05-13</td>\n",
              "      <td>Male</td>\n",
              "      <td>30</td>\n",
              "      <td>2010-05-14</td>\n",
              "      <td>1</td>\n",
              "      <td>Saloon</td>\n",
              "      <td>Black</td>\n",
              "      <td>TOYOTA</td>\n",
              "      <td>NaN</td>\n",
              "      <td>NaN</td>\n",
              "      <td>Car Classic</td>\n",
              "      <td>0</td>\n",
              "    </tr>\n",
              "    <tr>\n",
              "      <th>1</th>\n",
              "      <td>0046BNK</td>\n",
              "      <td>2010-11-29</td>\n",
              "      <td>2011-11-28</td>\n",
              "      <td>Female</td>\n",
              "      <td>79</td>\n",
              "      <td>2010-11-29</td>\n",
              "      <td>1</td>\n",
              "      <td>JEEP</td>\n",
              "      <td>Grey</td>\n",
              "      <td>TOYOTA</td>\n",
              "      <td>NaN</td>\n",
              "      <td>NaN</td>\n",
              "      <td>Car Classic</td>\n",
              "      <td>1</td>\n",
              "    </tr>\n",
              "  </tbody>\n",
              "</table>\n",
              "</div>"
            ],
            "text/plain": [
              "        ID Policy Start Date Policy End Date  ... State  ProductName target\n",
              "0  0040R73        2010-05-14      2011-05-13  ...   NaN  Car Classic      0\n",
              "1  0046BNK        2010-11-29      2011-11-28  ...   NaN  Car Classic      1\n",
              "\n",
              "[2 rows x 14 columns]"
            ]
          },
          "metadata": {
            "tags": []
          },
          "execution_count": 3
        }
      ]
    },
    {
      "cell_type": "markdown",
      "metadata": {
        "id": "75quQHnQ96PU"
      },
      "source": [
        "# Checking for cardinality"
      ]
    },
    {
      "cell_type": "code",
      "metadata": {
        "id": "BuMOddrlG3qw"
      },
      "source": [
        "lis3=[]\n",
        "for i in build_data:\n",
        "    lis3.append(build_data[str(i)].nunique())\n",
        "\n",
        "cardinal=pd.DataFrame(lis3,build_data.columns).reset_index()\n",
        "cardinal=cardinal.rename(columns={'index':'Features',0:'cardinality'})"
      ],
      "execution_count": 4,
      "outputs": []
    },
    {
      "cell_type": "code",
      "metadata": {
        "colab": {
          "base_uri": "https://localhost:8080/",
          "height": 489
        },
        "id": "GCUn3lLcMQwE",
        "outputId": "6c2c07c9-84d3-4513-d32c-3865c50d5c36"
      },
      "source": [
        "cardinal"
      ],
      "execution_count": 5,
      "outputs": [
        {
          "output_type": "execute_result",
          "data": {
            "text/html": [
              "<div>\n",
              "<style scoped>\n",
              "    .dataframe tbody tr th:only-of-type {\n",
              "        vertical-align: middle;\n",
              "    }\n",
              "\n",
              "    .dataframe tbody tr th {\n",
              "        vertical-align: top;\n",
              "    }\n",
              "\n",
              "    .dataframe thead th {\n",
              "        text-align: right;\n",
              "    }\n",
              "</style>\n",
              "<table border=\"1\" class=\"dataframe\">\n",
              "  <thead>\n",
              "    <tr style=\"text-align: right;\">\n",
              "      <th></th>\n",
              "      <th>Features</th>\n",
              "      <th>cardinality</th>\n",
              "    </tr>\n",
              "  </thead>\n",
              "  <tbody>\n",
              "    <tr>\n",
              "      <th>0</th>\n",
              "      <td>ID</td>\n",
              "      <td>12079</td>\n",
              "    </tr>\n",
              "    <tr>\n",
              "      <th>1</th>\n",
              "      <td>Policy Start Date</td>\n",
              "      <td>376</td>\n",
              "    </tr>\n",
              "    <tr>\n",
              "      <th>2</th>\n",
              "      <td>Policy End Date</td>\n",
              "      <td>372</td>\n",
              "    </tr>\n",
              "    <tr>\n",
              "      <th>3</th>\n",
              "      <td>Gender</td>\n",
              "      <td>7</td>\n",
              "    </tr>\n",
              "    <tr>\n",
              "      <th>4</th>\n",
              "      <td>Age</td>\n",
              "      <td>110</td>\n",
              "    </tr>\n",
              "    <tr>\n",
              "      <th>5</th>\n",
              "      <td>First Transaction Date</td>\n",
              "      <td>376</td>\n",
              "    </tr>\n",
              "    <tr>\n",
              "      <th>6</th>\n",
              "      <td>No_Pol</td>\n",
              "      <td>8</td>\n",
              "    </tr>\n",
              "    <tr>\n",
              "      <th>7</th>\n",
              "      <td>Car_Category</td>\n",
              "      <td>16</td>\n",
              "    </tr>\n",
              "    <tr>\n",
              "      <th>8</th>\n",
              "      <td>Subject_Car_Colour</td>\n",
              "      <td>45</td>\n",
              "    </tr>\n",
              "    <tr>\n",
              "      <th>9</th>\n",
              "      <td>Subject_Car_Make</td>\n",
              "      <td>74</td>\n",
              "    </tr>\n",
              "    <tr>\n",
              "      <th>10</th>\n",
              "      <td>LGA_Name</td>\n",
              "      <td>258</td>\n",
              "    </tr>\n",
              "    <tr>\n",
              "      <th>11</th>\n",
              "      <td>State</td>\n",
              "      <td>111</td>\n",
              "    </tr>\n",
              "    <tr>\n",
              "      <th>12</th>\n",
              "      <td>ProductName</td>\n",
              "      <td>9</td>\n",
              "    </tr>\n",
              "    <tr>\n",
              "      <th>13</th>\n",
              "      <td>target</td>\n",
              "      <td>2</td>\n",
              "    </tr>\n",
              "  </tbody>\n",
              "</table>\n",
              "</div>"
            ],
            "text/plain": [
              "                  Features  cardinality\n",
              "0                       ID        12079\n",
              "1        Policy Start Date          376\n",
              "2          Policy End Date          372\n",
              "3                   Gender            7\n",
              "4                      Age          110\n",
              "5   First Transaction Date          376\n",
              "6                   No_Pol            8\n",
              "7             Car_Category           16\n",
              "8       Subject_Car_Colour           45\n",
              "9         Subject_Car_Make           74\n",
              "10                LGA_Name          258\n",
              "11                   State          111\n",
              "12             ProductName            9\n",
              "13                  target            2"
            ]
          },
          "metadata": {
            "tags": []
          },
          "execution_count": 5
        }
      ]
    },
    {
      "cell_type": "code",
      "metadata": {
        "colab": {
          "base_uri": "https://localhost:8080/"
        },
        "id": "IpM4NQbE9_Az",
        "outputId": "8f4e45e3-381a-4b8d-e1fa-65c139b1be1b"
      },
      "source": [
        "build_data.isna().sum()"
      ],
      "execution_count": 6,
      "outputs": [
        {
          "output_type": "execute_result",
          "data": {
            "text/plain": [
              "ID                           0\n",
              "Policy Start Date            0\n",
              "Policy End Date              0\n",
              "Gender                     359\n",
              "Age                          0\n",
              "First Transaction Date       0\n",
              "No_Pol                       0\n",
              "Car_Category              3738\n",
              "Subject_Car_Colour        6962\n",
              "Subject_Car_Make          2476\n",
              "LGA_Name                  6476\n",
              "State                     6488\n",
              "ProductName                  0\n",
              "target                       0\n",
              "dtype: int64"
            ]
          },
          "metadata": {
            "tags": []
          },
          "execution_count": 6
        }
      ]
    },
    {
      "cell_type": "code",
      "metadata": {
        "colab": {
          "base_uri": "https://localhost:8080/"
        },
        "id": "irn8sJ5g-AMs",
        "outputId": "887962c4-51d4-4a3d-c7ee-5e1ddd1460a6"
      },
      "source": [
        "test_data.isna().sum()"
      ],
      "execution_count": 7,
      "outputs": [
        {
          "output_type": "execute_result",
          "data": {
            "text/plain": [
              "ID                           0\n",
              "Policy Start Date            0\n",
              "Policy End Date              0\n",
              "Gender                     156\n",
              "Age                          0\n",
              "First Transaction Date       0\n",
              "No_Pol                       0\n",
              "Car_Category              1638\n",
              "Subject_Car_Colour        3005\n",
              "Subject_Car_Make          1061\n",
              "LGA_Name                  2782\n",
              "State                     2788\n",
              "ProductName                  0\n",
              "dtype: int64"
            ]
          },
          "metadata": {
            "tags": []
          },
          "execution_count": 7
        }
      ]
    },
    {
      "cell_type": "code",
      "metadata": {
        "colab": {
          "base_uri": "https://localhost:8080/"
        },
        "id": "xyPG-_ySOLJ4",
        "outputId": "8b9657fa-8deb-427c-8b1a-434ad081a771"
      },
      "source": [
        "# join train and test together\n",
        "ntrain = build_data.shape[0]\n",
        "ntest = test_data.shape[0]\n",
        "\n",
        "all_data = pd.concat((build_data, test_data)).reset_index(drop=True)\n",
        "print(\"all_data size is : {}\".format(all_data.shape))"
      ],
      "execution_count": 8,
      "outputs": [
        {
          "output_type": "stream",
          "text": [
            "all_data size is : (17256, 14)\n"
          ],
          "name": "stdout"
        }
      ]
    },
    {
      "cell_type": "markdown",
      "metadata": {
        "id": "fiaX3Vnh-Gdq"
      },
      "source": [
        "# Convert date columns to datetime datatypes "
      ]
    },
    {
      "cell_type": "code",
      "metadata": {
        "id": "atW-tsdrObaA"
      },
      "source": [
        "for i in all_data.columns:\n",
        "  if i[-4:] == 'Date':\n",
        "    all_data[str(i)] = pd.to_datetime(all_data[str(i)],infer_datetime_format=True, errors='coerce')"
      ],
      "execution_count": 9,
      "outputs": []
    },
    {
      "cell_type": "code",
      "metadata": {
        "id": "LMrzIDrCZaql"
      },
      "source": [
        "all_data['Date diff'] = (all_data['Policy End Date'].dt.year - all_data['Policy Start Date'].dt.year) * 12 \\\n",
        "+ (all_data['Policy End Date'].dt.month - all_data['Policy Start Date'].dt.month)"
      ],
      "execution_count": 10,
      "outputs": []
    },
    {
      "cell_type": "code",
      "metadata": {
        "colab": {
          "base_uri": "https://localhost:8080/"
        },
        "id": "PkLVWu9XO6pE",
        "outputId": "ba292f10-4f6c-4a09-acef-c7087c868ff7"
      },
      "source": [
        "all_data.dtypes"
      ],
      "execution_count": 11,
      "outputs": [
        {
          "output_type": "execute_result",
          "data": {
            "text/plain": [
              "ID                                object\n",
              "Policy Start Date         datetime64[ns]\n",
              "Policy End Date           datetime64[ns]\n",
              "Gender                            object\n",
              "Age                                int64\n",
              "First Transaction Date    datetime64[ns]\n",
              "No_Pol                             int64\n",
              "Car_Category                      object\n",
              "Subject_Car_Colour                object\n",
              "Subject_Car_Make                  object\n",
              "LGA_Name                          object\n",
              "State                             object\n",
              "ProductName                       object\n",
              "target                           float64\n",
              "Date diff                          int64\n",
              "dtype: object"
            ]
          },
          "metadata": {
            "tags": []
          },
          "execution_count": 11
        }
      ]
    },
    {
      "cell_type": "code",
      "metadata": {
        "colab": {
          "base_uri": "https://localhost:8080/",
          "height": 300
        },
        "id": "lL3P-HU_Mne5",
        "outputId": "94cf3bb3-2810-4d46-d72a-de434b2af216"
      },
      "source": [
        "build_data.describe()"
      ],
      "execution_count": 12,
      "outputs": [
        {
          "output_type": "execute_result",
          "data": {
            "text/html": [
              "<div>\n",
              "<style scoped>\n",
              "    .dataframe tbody tr th:only-of-type {\n",
              "        vertical-align: middle;\n",
              "    }\n",
              "\n",
              "    .dataframe tbody tr th {\n",
              "        vertical-align: top;\n",
              "    }\n",
              "\n",
              "    .dataframe thead th {\n",
              "        text-align: right;\n",
              "    }\n",
              "</style>\n",
              "<table border=\"1\" class=\"dataframe\">\n",
              "  <thead>\n",
              "    <tr style=\"text-align: right;\">\n",
              "      <th></th>\n",
              "      <th>Age</th>\n",
              "      <th>No_Pol</th>\n",
              "      <th>target</th>\n",
              "    </tr>\n",
              "  </thead>\n",
              "  <tbody>\n",
              "    <tr>\n",
              "      <th>count</th>\n",
              "      <td>12079.000000</td>\n",
              "      <td>12079.000000</td>\n",
              "      <td>12079.000000</td>\n",
              "    </tr>\n",
              "    <tr>\n",
              "      <th>mean</th>\n",
              "      <td>42.234539</td>\n",
              "      <td>1.307227</td>\n",
              "      <td>0.120457</td>\n",
              "    </tr>\n",
              "    <tr>\n",
              "      <th>std</th>\n",
              "      <td>97.492565</td>\n",
              "      <td>0.733085</td>\n",
              "      <td>0.325509</td>\n",
              "    </tr>\n",
              "    <tr>\n",
              "      <th>min</th>\n",
              "      <td>-6099.000000</td>\n",
              "      <td>1.000000</td>\n",
              "      <td>0.000000</td>\n",
              "    </tr>\n",
              "    <tr>\n",
              "      <th>25%</th>\n",
              "      <td>35.000000</td>\n",
              "      <td>1.000000</td>\n",
              "      <td>0.000000</td>\n",
              "    </tr>\n",
              "    <tr>\n",
              "      <th>50%</th>\n",
              "      <td>41.000000</td>\n",
              "      <td>1.000000</td>\n",
              "      <td>0.000000</td>\n",
              "    </tr>\n",
              "    <tr>\n",
              "      <th>75%</th>\n",
              "      <td>50.000000</td>\n",
              "      <td>1.000000</td>\n",
              "      <td>0.000000</td>\n",
              "    </tr>\n",
              "    <tr>\n",
              "      <th>max</th>\n",
              "      <td>320.000000</td>\n",
              "      <td>10.000000</td>\n",
              "      <td>1.000000</td>\n",
              "    </tr>\n",
              "  </tbody>\n",
              "</table>\n",
              "</div>"
            ],
            "text/plain": [
              "                Age        No_Pol        target\n",
              "count  12079.000000  12079.000000  12079.000000\n",
              "mean      42.234539      1.307227      0.120457\n",
              "std       97.492565      0.733085      0.325509\n",
              "min    -6099.000000      1.000000      0.000000\n",
              "25%       35.000000      1.000000      0.000000\n",
              "50%       41.000000      1.000000      0.000000\n",
              "75%       50.000000      1.000000      0.000000\n",
              "max      320.000000     10.000000      1.000000"
            ]
          },
          "metadata": {
            "tags": []
          },
          "execution_count": 12
        }
      ]
    },
    {
      "cell_type": "code",
      "metadata": {
        "colab": {
          "base_uri": "https://localhost:8080/",
          "height": 300
        },
        "id": "9igO_9l0PMNm",
        "outputId": "eb06ec40-1fe4-4cad-c18b-78b24aa704ae"
      },
      "source": [
        "test_data.describe()"
      ],
      "execution_count": 13,
      "outputs": [
        {
          "output_type": "execute_result",
          "data": {
            "text/html": [
              "<div>\n",
              "<style scoped>\n",
              "    .dataframe tbody tr th:only-of-type {\n",
              "        vertical-align: middle;\n",
              "    }\n",
              "\n",
              "    .dataframe tbody tr th {\n",
              "        vertical-align: top;\n",
              "    }\n",
              "\n",
              "    .dataframe thead th {\n",
              "        text-align: right;\n",
              "    }\n",
              "</style>\n",
              "<table border=\"1\" class=\"dataframe\">\n",
              "  <thead>\n",
              "    <tr style=\"text-align: right;\">\n",
              "      <th></th>\n",
              "      <th>Age</th>\n",
              "      <th>No_Pol</th>\n",
              "    </tr>\n",
              "  </thead>\n",
              "  <tbody>\n",
              "    <tr>\n",
              "      <th>count</th>\n",
              "      <td>5177.000000</td>\n",
              "      <td>5177.000000</td>\n",
              "    </tr>\n",
              "    <tr>\n",
              "      <th>mean</th>\n",
              "      <td>43.710257</td>\n",
              "      <td>1.308287</td>\n",
              "    </tr>\n",
              "    <tr>\n",
              "      <th>std</th>\n",
              "      <td>22.439018</td>\n",
              "      <td>0.712004</td>\n",
              "    </tr>\n",
              "    <tr>\n",
              "      <th>min</th>\n",
              "      <td>-76.000000</td>\n",
              "      <td>1.000000</td>\n",
              "    </tr>\n",
              "    <tr>\n",
              "      <th>25%</th>\n",
              "      <td>34.000000</td>\n",
              "      <td>1.000000</td>\n",
              "    </tr>\n",
              "    <tr>\n",
              "      <th>50%</th>\n",
              "      <td>40.000000</td>\n",
              "      <td>1.000000</td>\n",
              "    </tr>\n",
              "    <tr>\n",
              "      <th>75%</th>\n",
              "      <td>50.000000</td>\n",
              "      <td>1.000000</td>\n",
              "    </tr>\n",
              "    <tr>\n",
              "      <th>max</th>\n",
              "      <td>320.000000</td>\n",
              "      <td>10.000000</td>\n",
              "    </tr>\n",
              "  </tbody>\n",
              "</table>\n",
              "</div>"
            ],
            "text/plain": [
              "               Age       No_Pol\n",
              "count  5177.000000  5177.000000\n",
              "mean     43.710257     1.308287\n",
              "std      22.439018     0.712004\n",
              "min     -76.000000     1.000000\n",
              "25%      34.000000     1.000000\n",
              "50%      40.000000     1.000000\n",
              "75%      50.000000     1.000000\n",
              "max     320.000000    10.000000"
            ]
          },
          "metadata": {
            "tags": []
          },
          "execution_count": 13
        }
      ]
    },
    {
      "cell_type": "markdown",
      "metadata": {
        "id": "xa9rhjkn-ME0"
      },
      "source": [
        "noticed some strange occurence in the age column, as regarding the max and min\n",
        "\n",
        "pre-processing the age column"
      ]
    },
    {
      "cell_type": "code",
      "metadata": {
        "colab": {
          "base_uri": "https://localhost:8080/"
        },
        "id": "q6n3290jV0Br",
        "outputId": "f5c86268-36cb-4eeb-e7dc-325ee34d7977"
      },
      "source": [
        "all_data['Age'].loc[all_data['Age'] < 0] = all_data['Age'].loc[all_data['Age'] < 0] * -1"
      ],
      "execution_count": 14,
      "outputs": [
        {
          "output_type": "stream",
          "text": [
            "/usr/local/lib/python3.6/dist-packages/pandas/core/indexing.py:670: SettingWithCopyWarning: \n",
            "A value is trying to be set on a copy of a slice from a DataFrame\n",
            "\n",
            "See the caveats in the documentation: https://pandas.pydata.org/pandas-docs/stable/user_guide/indexing.html#returning-a-view-versus-a-copy\n",
            "  iloc._setitem_with_indexer(indexer, value)\n"
          ],
          "name": "stderr"
        }
      ]
    },
    {
      "cell_type": "code",
      "metadata": {
        "id": "qD09eHh1PfPQ"
      },
      "source": [
        "all_data['Age'] = np.where(all_data['Age'] == 320, 120, all_data['Age'])\n",
        "all_data['Age'] = np.where(all_data['Age'] > 320, 99, all_data['Age'])"
      ],
      "execution_count": 15,
      "outputs": []
    },
    {
      "cell_type": "code",
      "metadata": {
        "colab": {
          "base_uri": "https://localhost:8080/",
          "height": 292
        },
        "id": "C84xlltFRXCo",
        "outputId": "1433cfab-f62c-4b79-b1ee-76956ed36ecd"
      },
      "source": [
        "all_data[all_data['Age']>120]"
      ],
      "execution_count": 16,
      "outputs": [
        {
          "output_type": "execute_result",
          "data": {
            "text/html": [
              "<div>\n",
              "<style scoped>\n",
              "    .dataframe tbody tr th:only-of-type {\n",
              "        vertical-align: middle;\n",
              "    }\n",
              "\n",
              "    .dataframe tbody tr th {\n",
              "        vertical-align: top;\n",
              "    }\n",
              "\n",
              "    .dataframe thead th {\n",
              "        text-align: right;\n",
              "    }\n",
              "</style>\n",
              "<table border=\"1\" class=\"dataframe\">\n",
              "  <thead>\n",
              "    <tr style=\"text-align: right;\">\n",
              "      <th></th>\n",
              "      <th>ID</th>\n",
              "      <th>Policy Start Date</th>\n",
              "      <th>Policy End Date</th>\n",
              "      <th>Gender</th>\n",
              "      <th>Age</th>\n",
              "      <th>First Transaction Date</th>\n",
              "      <th>No_Pol</th>\n",
              "      <th>Car_Category</th>\n",
              "      <th>Subject_Car_Colour</th>\n",
              "      <th>Subject_Car_Make</th>\n",
              "      <th>LGA_Name</th>\n",
              "      <th>State</th>\n",
              "      <th>ProductName</th>\n",
              "      <th>target</th>\n",
              "      <th>Date diff</th>\n",
              "    </tr>\n",
              "  </thead>\n",
              "  <tbody>\n",
              "    <tr>\n",
              "      <th>1898</th>\n",
              "      <td>5SV5NUX</td>\n",
              "      <td>2010-11-06</td>\n",
              "      <td>2011-11-05</td>\n",
              "      <td>Male</td>\n",
              "      <td>140</td>\n",
              "      <td>2010-11-06</td>\n",
              "      <td>1</td>\n",
              "      <td>Saloon</td>\n",
              "      <td>NaN</td>\n",
              "      <td>TOYOTA</td>\n",
              "      <td>NaN</td>\n",
              "      <td>NaN</td>\n",
              "      <td>CarSafe</td>\n",
              "      <td>0.0</td>\n",
              "      <td>12</td>\n",
              "    </tr>\n",
              "    <tr>\n",
              "      <th>4818</th>\n",
              "      <td>EGQC4R5</td>\n",
              "      <td>2010-10-30</td>\n",
              "      <td>2011-10-29</td>\n",
              "      <td>Male</td>\n",
              "      <td>144</td>\n",
              "      <td>2010-10-30</td>\n",
              "      <td>1</td>\n",
              "      <td>Saloon</td>\n",
              "      <td>NaN</td>\n",
              "      <td>TOYOTA</td>\n",
              "      <td>NaN</td>\n",
              "      <td>NaN</td>\n",
              "      <td>CarSafe</td>\n",
              "      <td>0.0</td>\n",
              "      <td>12</td>\n",
              "    </tr>\n",
              "    <tr>\n",
              "      <th>8759</th>\n",
              "      <td>Q84M6QH</td>\n",
              "      <td>2010-03-19</td>\n",
              "      <td>2011-03-18</td>\n",
              "      <td>Female</td>\n",
              "      <td>133</td>\n",
              "      <td>2010-03-19</td>\n",
              "      <td>1</td>\n",
              "      <td>Saloon</td>\n",
              "      <td>NaN</td>\n",
              "      <td>Lexus</td>\n",
              "      <td>NaN</td>\n",
              "      <td>NaN</td>\n",
              "      <td>CarSafe</td>\n",
              "      <td>0.0</td>\n",
              "      <td>12</td>\n",
              "    </tr>\n",
              "    <tr>\n",
              "      <th>9707</th>\n",
              "      <td>T254GBH</td>\n",
              "      <td>2010-09-12</td>\n",
              "      <td>2011-09-11</td>\n",
              "      <td>Male</td>\n",
              "      <td>144</td>\n",
              "      <td>2010-09-12</td>\n",
              "      <td>1</td>\n",
              "      <td>Saloon</td>\n",
              "      <td>NaN</td>\n",
              "      <td>TOYOTA</td>\n",
              "      <td>NaN</td>\n",
              "      <td>NaN</td>\n",
              "      <td>CarSafe</td>\n",
              "      <td>0.0</td>\n",
              "      <td>12</td>\n",
              "    </tr>\n",
              "    <tr>\n",
              "      <th>10373</th>\n",
              "      <td>V2SMGA2</td>\n",
              "      <td>2010-07-13</td>\n",
              "      <td>2011-07-12</td>\n",
              "      <td>Male</td>\n",
              "      <td>128</td>\n",
              "      <td>2010-07-13</td>\n",
              "      <td>1</td>\n",
              "      <td>Saloon</td>\n",
              "      <td>NaN</td>\n",
              "      <td>BMW</td>\n",
              "      <td>NaN</td>\n",
              "      <td>NaN</td>\n",
              "      <td>CarSafe</td>\n",
              "      <td>0.0</td>\n",
              "      <td>12</td>\n",
              "    </tr>\n",
              "    <tr>\n",
              "      <th>16057</th>\n",
              "      <td>RO8Y0VS</td>\n",
              "      <td>2010-10-30</td>\n",
              "      <td>2011-10-29</td>\n",
              "      <td>Male</td>\n",
              "      <td>144</td>\n",
              "      <td>2010-10-30</td>\n",
              "      <td>1</td>\n",
              "      <td>Saloon</td>\n",
              "      <td>NaN</td>\n",
              "      <td>TOYOTA</td>\n",
              "      <td>NaN</td>\n",
              "      <td>NaN</td>\n",
              "      <td>CarSafe</td>\n",
              "      <td>NaN</td>\n",
              "      <td>12</td>\n",
              "    </tr>\n",
              "  </tbody>\n",
              "</table>\n",
              "</div>"
            ],
            "text/plain": [
              "            ID Policy Start Date Policy End Date  ... ProductName  target Date diff\n",
              "1898   5SV5NUX        2010-11-06      2011-11-05  ...     CarSafe     0.0        12\n",
              "4818   EGQC4R5        2010-10-30      2011-10-29  ...     CarSafe     0.0        12\n",
              "8759   Q84M6QH        2010-03-19      2011-03-18  ...     CarSafe     0.0        12\n",
              "9707   T254GBH        2010-09-12      2011-09-11  ...     CarSafe     0.0        12\n",
              "10373  V2SMGA2        2010-07-13      2011-07-12  ...     CarSafe     0.0        12\n",
              "16057  RO8Y0VS        2010-10-30      2011-10-29  ...     CarSafe     NaN        12\n",
              "\n",
              "[6 rows x 15 columns]"
            ]
          },
          "metadata": {
            "tags": []
          },
          "execution_count": 16
        }
      ]
    },
    {
      "cell_type": "code",
      "metadata": {
        "colab": {
          "base_uri": "https://localhost:8080/",
          "height": 489
        },
        "id": "yZcpqv5tUhWY",
        "outputId": "a97f71fd-3c02-4048-86fb-9c3aa19fe9d5"
      },
      "source": [
        "cardinal"
      ],
      "execution_count": 17,
      "outputs": [
        {
          "output_type": "execute_result",
          "data": {
            "text/html": [
              "<div>\n",
              "<style scoped>\n",
              "    .dataframe tbody tr th:only-of-type {\n",
              "        vertical-align: middle;\n",
              "    }\n",
              "\n",
              "    .dataframe tbody tr th {\n",
              "        vertical-align: top;\n",
              "    }\n",
              "\n",
              "    .dataframe thead th {\n",
              "        text-align: right;\n",
              "    }\n",
              "</style>\n",
              "<table border=\"1\" class=\"dataframe\">\n",
              "  <thead>\n",
              "    <tr style=\"text-align: right;\">\n",
              "      <th></th>\n",
              "      <th>Features</th>\n",
              "      <th>cardinality</th>\n",
              "    </tr>\n",
              "  </thead>\n",
              "  <tbody>\n",
              "    <tr>\n",
              "      <th>0</th>\n",
              "      <td>ID</td>\n",
              "      <td>12079</td>\n",
              "    </tr>\n",
              "    <tr>\n",
              "      <th>1</th>\n",
              "      <td>Policy Start Date</td>\n",
              "      <td>376</td>\n",
              "    </tr>\n",
              "    <tr>\n",
              "      <th>2</th>\n",
              "      <td>Policy End Date</td>\n",
              "      <td>372</td>\n",
              "    </tr>\n",
              "    <tr>\n",
              "      <th>3</th>\n",
              "      <td>Gender</td>\n",
              "      <td>7</td>\n",
              "    </tr>\n",
              "    <tr>\n",
              "      <th>4</th>\n",
              "      <td>Age</td>\n",
              "      <td>110</td>\n",
              "    </tr>\n",
              "    <tr>\n",
              "      <th>5</th>\n",
              "      <td>First Transaction Date</td>\n",
              "      <td>376</td>\n",
              "    </tr>\n",
              "    <tr>\n",
              "      <th>6</th>\n",
              "      <td>No_Pol</td>\n",
              "      <td>8</td>\n",
              "    </tr>\n",
              "    <tr>\n",
              "      <th>7</th>\n",
              "      <td>Car_Category</td>\n",
              "      <td>16</td>\n",
              "    </tr>\n",
              "    <tr>\n",
              "      <th>8</th>\n",
              "      <td>Subject_Car_Colour</td>\n",
              "      <td>45</td>\n",
              "    </tr>\n",
              "    <tr>\n",
              "      <th>9</th>\n",
              "      <td>Subject_Car_Make</td>\n",
              "      <td>74</td>\n",
              "    </tr>\n",
              "    <tr>\n",
              "      <th>10</th>\n",
              "      <td>LGA_Name</td>\n",
              "      <td>258</td>\n",
              "    </tr>\n",
              "    <tr>\n",
              "      <th>11</th>\n",
              "      <td>State</td>\n",
              "      <td>111</td>\n",
              "    </tr>\n",
              "    <tr>\n",
              "      <th>12</th>\n",
              "      <td>ProductName</td>\n",
              "      <td>9</td>\n",
              "    </tr>\n",
              "    <tr>\n",
              "      <th>13</th>\n",
              "      <td>target</td>\n",
              "      <td>2</td>\n",
              "    </tr>\n",
              "  </tbody>\n",
              "</table>\n",
              "</div>"
            ],
            "text/plain": [
              "                  Features  cardinality\n",
              "0                       ID        12079\n",
              "1        Policy Start Date          376\n",
              "2          Policy End Date          372\n",
              "3                   Gender            7\n",
              "4                      Age          110\n",
              "5   First Transaction Date          376\n",
              "6                   No_Pol            8\n",
              "7             Car_Category           16\n",
              "8       Subject_Car_Colour           45\n",
              "9         Subject_Car_Make           74\n",
              "10                LGA_Name          258\n",
              "11                   State          111\n",
              "12             ProductName            9\n",
              "13                  target            2"
            ]
          },
          "metadata": {
            "tags": []
          },
          "execution_count": 17
        }
      ]
    },
    {
      "cell_type": "markdown",
      "metadata": {
        "id": "opgdQ2Lm-WTc"
      },
      "source": [
        "# EDA"
      ]
    },
    {
      "cell_type": "code",
      "metadata": {
        "colab": {
          "base_uri": "https://localhost:8080/",
          "height": 331
        },
        "id": "jwv4Fkp5VDtG",
        "outputId": "086e0f0e-fd8d-43e3-dd17-1bd64c38c4dc"
      },
      "source": [
        "plt.figure(figsize=(20,5))\n",
        "sns.countplot(x='ProductName',hue=\"target\",data=build_data)"
      ],
      "execution_count": 18,
      "outputs": [
        {
          "output_type": "execute_result",
          "data": {
            "text/plain": [
              "<matplotlib.axes._subplots.AxesSubplot at 0x7fc9dfb44f60>"
            ]
          },
          "metadata": {
            "tags": []
          },
          "execution_count": 18
        },
        {
          "output_type": "display_data",
          "data": {
            "image/png": "[encoded data removed]",
            "text/plain": [
              "<Figure size 1440x360 with 1 Axes>"
            ]
          },
          "metadata": {
            "tags": [],
            "needs_background": "light"
          }
        }
      ]
    },
    {
      "cell_type": "code",
      "metadata": {
        "colab": {
          "base_uri": "https://localhost:8080/",
          "height": 333
        },
        "id": "tp30_C4UScxT",
        "outputId": "6f8db796-781f-4525-f205-0cb30d396a14"
      },
      "source": [
        "plt.figure(figsize=(20,5))\n",
        "sns.countplot(x='Gender',hue=\"target\",data=build_data)"
      ],
      "execution_count": 19,
      "outputs": [
        {
          "output_type": "execute_result",
          "data": {
            "text/plain": [
              "<matplotlib.axes._subplots.AxesSubplot at 0x7fc9c57c8240>"
            ]
          },
          "metadata": {
            "tags": []
          },
          "execution_count": 19
        },
        {
          "output_type": "display_data",
          "data": {
            "image/png": "[encoded data removed]",
            "text/plain": [
              "<Figure size 1440x360 with 1 Axes>"
            ]
          },
          "metadata": {
            "tags": [],
            "needs_background": "light"
          }
        }
      ]
    },
    {
      "cell_type": "code",
      "metadata": {
        "colab": {
          "base_uri": "https://localhost:8080/",
          "height": 332
        },
        "id": "N3V63oMGTKt7",
        "outputId": "b14a8002-b553-46b1-a77a-a2c63c5ed196"
      },
      "source": [
        "plt.figure(figsize=(20,5))\n",
        "sns.countplot(x='No_Pol',hue=\"target\",data=build_data)"
      ],
      "execution_count": 20,
      "outputs": [
        {
          "output_type": "execute_result",
          "data": {
            "text/plain": [
              "<matplotlib.axes._subplots.AxesSubplot at 0x7fc9c52124e0>"
            ]
          },
          "metadata": {
            "tags": []
          },
          "execution_count": 20
        },
        {
          "output_type": "display_data",
          "data": {
            "image/png": "[encoded data removed]",
            "text/plain": [
              "<Figure size 1440x360 with 1 Axes>"
            ]
          },
          "metadata": {
            "tags": [],
            "needs_background": "light"
          }
        }
      ]
    },
    {
      "cell_type": "code",
      "metadata": {
        "colab": {
          "base_uri": "https://localhost:8080/",
          "height": 283
        },
        "id": "VlwDCEhSU0Vn",
        "outputId": "dfdfe824-8a12-474b-b045-0a27217a8677"
      },
      "source": [
        "all_data['Age'].hist()"
      ],
      "execution_count": 21,
      "outputs": [
        {
          "output_type": "execute_result",
          "data": {
            "text/plain": [
              "<matplotlib.axes._subplots.AxesSubplot at 0x7fc9c51072e8>"
            ]
          },
          "metadata": {
            "tags": []
          },
          "execution_count": 21
        },
        {
          "output_type": "display_data",
          "data": {
            "image/png": "[encoded data removed]",
            "text/plain": [
              "<Figure size 432x288 with 1 Axes>"
            ]
          },
          "metadata": {
            "tags": [],
            "needs_background": "light"
          }
        }
      ]
    },
    {
      "cell_type": "code",
      "metadata": {
        "id": "LE-TFLHIVZWW"
      },
      "source": [
        "def crosstab(col, data):\n",
        "  return pd.crosstab(data[col],data['target'], normalize=True)"
      ],
      "execution_count": 22,
      "outputs": []
    },
    {
      "cell_type": "code",
      "metadata": {
        "colab": {
          "base_uri": "https://localhost:8080/"
        },
        "id": "xNuIX94oXsVb",
        "outputId": "8c5c7cd3-b5b3-4cae-a303-2db88993837d"
      },
      "source": [
        "all_data.columns"
      ],
      "execution_count": 23,
      "outputs": [
        {
          "output_type": "execute_result",
          "data": {
            "text/plain": [
              "Index(['ID', 'Policy Start Date', 'Policy End Date', 'Gender', 'Age',\n",
              "       'First Transaction Date', 'No_Pol', 'Car_Category',\n",
              "       'Subject_Car_Colour', 'Subject_Car_Make', 'LGA_Name', 'State',\n",
              "       'ProductName', 'target', 'Date diff'],\n",
              "      dtype='object')"
            ]
          },
          "metadata": {
            "tags": []
          },
          "execution_count": 23
        }
      ]
    },
    {
      "cell_type": "code",
      "metadata": {
        "colab": {
          "base_uri": "https://localhost:8080/",
          "height": 332
        },
        "id": "4RIOyTfZXpLN",
        "outputId": "267b3679-8433-4a49-f4f3-d6607a33b462"
      },
      "source": [
        "crosstab('No_Pol', build_data)"
      ],
      "execution_count": 24,
      "outputs": [
        {
          "output_type": "execute_result",
          "data": {
            "text/html": [
              "<div>\n",
              "<style scoped>\n",
              "    .dataframe tbody tr th:only-of-type {\n",
              "        vertical-align: middle;\n",
              "    }\n",
              "\n",
              "    .dataframe tbody tr th {\n",
              "        vertical-align: top;\n",
              "    }\n",
              "\n",
              "    .dataframe thead th {\n",
              "        text-align: right;\n",
              "    }\n",
              "</style>\n",
              "<table border=\"1\" class=\"dataframe\">\n",
              "  <thead>\n",
              "    <tr style=\"text-align: right;\">\n",
              "      <th>target</th>\n",
              "      <th>0</th>\n",
              "      <th>1</th>\n",
              "    </tr>\n",
              "    <tr>\n",
              "      <th>No_Pol</th>\n",
              "      <th></th>\n",
              "      <th></th>\n",
              "    </tr>\n",
              "  </thead>\n",
              "  <tbody>\n",
              "    <tr>\n",
              "      <th>1</th>\n",
              "      <td>0.706681</td>\n",
              "      <td>0.086431</td>\n",
              "    </tr>\n",
              "    <tr>\n",
              "      <th>2</th>\n",
              "      <td>0.121119</td>\n",
              "      <td>0.019290</td>\n",
              "    </tr>\n",
              "    <tr>\n",
              "      <th>3</th>\n",
              "      <td>0.035599</td>\n",
              "      <td>0.009024</td>\n",
              "    </tr>\n",
              "    <tr>\n",
              "      <th>4</th>\n",
              "      <td>0.011590</td>\n",
              "      <td>0.005464</td>\n",
              "    </tr>\n",
              "    <tr>\n",
              "      <th>5</th>\n",
              "      <td>0.001739</td>\n",
              "      <td>0.000248</td>\n",
              "    </tr>\n",
              "    <tr>\n",
              "      <th>6</th>\n",
              "      <td>0.000662</td>\n",
              "      <td>0.000000</td>\n",
              "    </tr>\n",
              "    <tr>\n",
              "      <th>7</th>\n",
              "      <td>0.001407</td>\n",
              "      <td>0.000000</td>\n",
              "    </tr>\n",
              "    <tr>\n",
              "      <th>10</th>\n",
              "      <td>0.000745</td>\n",
              "      <td>0.000000</td>\n",
              "    </tr>\n",
              "  </tbody>\n",
              "</table>\n",
              "</div>"
            ],
            "text/plain": [
              "target         0         1\n",
              "No_Pol                    \n",
              "1       0.706681  0.086431\n",
              "2       0.121119  0.019290\n",
              "3       0.035599  0.009024\n",
              "4       0.011590  0.005464\n",
              "5       0.001739  0.000248\n",
              "6       0.000662  0.000000\n",
              "7       0.001407  0.000000\n",
              "10      0.000745  0.000000"
            ]
          },
          "metadata": {
            "tags": []
          },
          "execution_count": 24
        }
      ]
    },
    {
      "cell_type": "code",
      "metadata": {
        "colab": {
          "base_uri": "https://localhost:8080/",
          "height": 583
        },
        "id": "jdQ3Jxb4Xza6",
        "outputId": "bb243f35-99fa-4e52-c014-f475239bb26a"
      },
      "source": [
        "crosstab('Car_Category', build_data)"
      ],
      "execution_count": 25,
      "outputs": [
        {
          "output_type": "execute_result",
          "data": {
            "text/html": [
              "<div>\n",
              "<style scoped>\n",
              "    .dataframe tbody tr th:only-of-type {\n",
              "        vertical-align: middle;\n",
              "    }\n",
              "\n",
              "    .dataframe tbody tr th {\n",
              "        vertical-align: top;\n",
              "    }\n",
              "\n",
              "    .dataframe thead th {\n",
              "        text-align: right;\n",
              "    }\n",
              "</style>\n",
              "<table border=\"1\" class=\"dataframe\">\n",
              "  <thead>\n",
              "    <tr style=\"text-align: right;\">\n",
              "      <th>target</th>\n",
              "      <th>0</th>\n",
              "      <th>1</th>\n",
              "    </tr>\n",
              "    <tr>\n",
              "      <th>Car_Category</th>\n",
              "      <th></th>\n",
              "      <th></th>\n",
              "    </tr>\n",
              "  </thead>\n",
              "  <tbody>\n",
              "    <tr>\n",
              "      <th>Bus</th>\n",
              "      <td>0.005395</td>\n",
              "      <td>0.001079</td>\n",
              "    </tr>\n",
              "    <tr>\n",
              "      <th>CAMRY CAR HIRE</th>\n",
              "      <td>0.000120</td>\n",
              "      <td>0.000000</td>\n",
              "    </tr>\n",
              "    <tr>\n",
              "      <th>JEEP</th>\n",
              "      <td>0.212564</td>\n",
              "      <td>0.029733</td>\n",
              "    </tr>\n",
              "    <tr>\n",
              "      <th>Mini Bus</th>\n",
              "      <td>0.003117</td>\n",
              "      <td>0.001199</td>\n",
              "    </tr>\n",
              "    <tr>\n",
              "      <th>Mini Van</th>\n",
              "      <td>0.001319</td>\n",
              "      <td>0.000240</td>\n",
              "    </tr>\n",
              "    <tr>\n",
              "      <th>Motorcycle</th>\n",
              "      <td>0.001798</td>\n",
              "      <td>0.000240</td>\n",
              "    </tr>\n",
              "    <tr>\n",
              "      <th>Pick Up</th>\n",
              "      <td>0.002638</td>\n",
              "      <td>0.000959</td>\n",
              "    </tr>\n",
              "    <tr>\n",
              "      <th>Pick Up &gt; 3 Tons</th>\n",
              "      <td>0.000120</td>\n",
              "      <td>0.000000</td>\n",
              "    </tr>\n",
              "    <tr>\n",
              "      <th>Saloon</th>\n",
              "      <td>0.625704</td>\n",
              "      <td>0.097710</td>\n",
              "    </tr>\n",
              "    <tr>\n",
              "      <th>Sedan</th>\n",
              "      <td>0.000839</td>\n",
              "      <td>0.000599</td>\n",
              "    </tr>\n",
              "    <tr>\n",
              "      <th>Shape Of Vehicle Chasis</th>\n",
              "      <td>0.000480</td>\n",
              "      <td>0.000240</td>\n",
              "    </tr>\n",
              "    <tr>\n",
              "      <th>Station 4 Wheel</th>\n",
              "      <td>0.000599</td>\n",
              "      <td>0.000000</td>\n",
              "    </tr>\n",
              "    <tr>\n",
              "      <th>Tipper Truck</th>\n",
              "      <td>0.000120</td>\n",
              "      <td>0.000000</td>\n",
              "    </tr>\n",
              "    <tr>\n",
              "      <th>Truck</th>\n",
              "      <td>0.008752</td>\n",
              "      <td>0.002877</td>\n",
              "    </tr>\n",
              "    <tr>\n",
              "      <th>Van</th>\n",
              "      <td>0.000240</td>\n",
              "      <td>0.000120</td>\n",
              "    </tr>\n",
              "    <tr>\n",
              "      <th>Wagon</th>\n",
              "      <td>0.001079</td>\n",
              "      <td>0.000120</td>\n",
              "    </tr>\n",
              "  </tbody>\n",
              "</table>\n",
              "</div>"
            ],
            "text/plain": [
              "target                          0         1\n",
              "Car_Category                               \n",
              "Bus                      0.005395  0.001079\n",
              "CAMRY CAR HIRE           0.000120  0.000000\n",
              "JEEP                     0.212564  0.029733\n",
              "Mini Bus                 0.003117  0.001199\n",
              "Mini Van                 0.001319  0.000240\n",
              "Motorcycle               0.001798  0.000240\n",
              "Pick Up                  0.002638  0.000959\n",
              "Pick Up > 3 Tons         0.000120  0.000000\n",
              "Saloon                   0.625704  0.097710\n",
              "Sedan                    0.000839  0.000599\n",
              "Shape Of Vehicle Chasis  0.000480  0.000240\n",
              "Station 4 Wheel          0.000599  0.000000\n",
              "Tipper Truck             0.000120  0.000000\n",
              "Truck                    0.008752  0.002877\n",
              "Van                      0.000240  0.000120\n",
              "Wagon                    0.001079  0.000120"
            ]
          },
          "metadata": {
            "tags": []
          },
          "execution_count": 25
        }
      ]
    },
    {
      "cell_type": "code",
      "metadata": {
        "colab": {
          "base_uri": "https://localhost:8080/",
          "height": 300
        },
        "id": "VLjDaGYgYBDz",
        "outputId": "ced0b7af-6f68-4f16-d4a9-59099dc15e0b"
      },
      "source": [
        "crosstab('Gender', build_data)"
      ],
      "execution_count": 26,
      "outputs": [
        {
          "output_type": "execute_result",
          "data": {
            "text/html": [
              "<div>\n",
              "<style scoped>\n",
              "    .dataframe tbody tr th:only-of-type {\n",
              "        vertical-align: middle;\n",
              "    }\n",
              "\n",
              "    .dataframe tbody tr th {\n",
              "        vertical-align: top;\n",
              "    }\n",
              "\n",
              "    .dataframe thead th {\n",
              "        text-align: right;\n",
              "    }\n",
              "</style>\n",
              "<table border=\"1\" class=\"dataframe\">\n",
              "  <thead>\n",
              "    <tr style=\"text-align: right;\">\n",
              "      <th>target</th>\n",
              "      <th>0</th>\n",
              "      <th>1</th>\n",
              "    </tr>\n",
              "    <tr>\n",
              "      <th>Gender</th>\n",
              "      <th></th>\n",
              "      <th></th>\n",
              "    </tr>\n",
              "  </thead>\n",
              "  <tbody>\n",
              "    <tr>\n",
              "      <th>Entity</th>\n",
              "      <td>0.015614</td>\n",
              "      <td>0.008020</td>\n",
              "    </tr>\n",
              "    <tr>\n",
              "      <th>Female</th>\n",
              "      <td>0.253328</td>\n",
              "      <td>0.030546</td>\n",
              "    </tr>\n",
              "    <tr>\n",
              "      <th>Joint Gender</th>\n",
              "      <td>0.017150</td>\n",
              "      <td>0.001877</td>\n",
              "    </tr>\n",
              "    <tr>\n",
              "      <th>Male</th>\n",
              "      <td>0.572952</td>\n",
              "      <td>0.076962</td>\n",
              "    </tr>\n",
              "    <tr>\n",
              "      <th>NO GENDER</th>\n",
              "      <td>0.004522</td>\n",
              "      <td>0.001109</td>\n",
              "    </tr>\n",
              "    <tr>\n",
              "      <th>NOT STATED</th>\n",
              "      <td>0.014420</td>\n",
              "      <td>0.000512</td>\n",
              "    </tr>\n",
              "    <tr>\n",
              "      <th>SEX</th>\n",
              "      <td>0.002986</td>\n",
              "      <td>0.000000</td>\n",
              "    </tr>\n",
              "  </tbody>\n",
              "</table>\n",
              "</div>"
            ],
            "text/plain": [
              "target               0         1\n",
              "Gender                          \n",
              "Entity        0.015614  0.008020\n",
              "Female        0.253328  0.030546\n",
              "Joint Gender  0.017150  0.001877\n",
              "Male          0.572952  0.076962\n",
              "NO GENDER     0.004522  0.001109\n",
              "NOT STATED    0.014420  0.000512\n",
              "SEX           0.002986  0.000000"
            ]
          },
          "metadata": {
            "tags": []
          },
          "execution_count": 26
        }
      ]
    },
    {
      "cell_type": "code",
      "metadata": {
        "colab": {
          "base_uri": "https://localhost:8080/",
          "height": 455
        },
        "id": "6VBzfAu8Yg1g",
        "outputId": "494a6512-3cab-4449-f985-076e0ad6002b"
      },
      "source": [
        "crosstab('Subject_Car_Make', build_data)"
      ],
      "execution_count": 27,
      "outputs": [
        {
          "output_type": "execute_result",
          "data": {
            "text/html": [
              "<div>\n",
              "<style scoped>\n",
              "    .dataframe tbody tr th:only-of-type {\n",
              "        vertical-align: middle;\n",
              "    }\n",
              "\n",
              "    .dataframe tbody tr th {\n",
              "        vertical-align: top;\n",
              "    }\n",
              "\n",
              "    .dataframe thead th {\n",
              "        text-align: right;\n",
              "    }\n",
              "</style>\n",
              "<table border=\"1\" class=\"dataframe\">\n",
              "  <thead>\n",
              "    <tr style=\"text-align: right;\">\n",
              "      <th>target</th>\n",
              "      <th>0</th>\n",
              "      <th>1</th>\n",
              "    </tr>\n",
              "    <tr>\n",
              "      <th>Subject_Car_Make</th>\n",
              "      <th></th>\n",
              "      <th></th>\n",
              "    </tr>\n",
              "  </thead>\n",
              "  <tbody>\n",
              "    <tr>\n",
              "      <th>.</th>\n",
              "      <td>0.003124</td>\n",
              "      <td>0.001458</td>\n",
              "    </tr>\n",
              "    <tr>\n",
              "      <th>ABG</th>\n",
              "      <td>0.000104</td>\n",
              "      <td>0.000000</td>\n",
              "    </tr>\n",
              "    <tr>\n",
              "      <th>ACURA</th>\n",
              "      <td>0.006040</td>\n",
              "      <td>0.000729</td>\n",
              "    </tr>\n",
              "    <tr>\n",
              "      <th>As Attached</th>\n",
              "      <td>0.000625</td>\n",
              "      <td>0.000521</td>\n",
              "    </tr>\n",
              "    <tr>\n",
              "      <th>Ashok Leyland</th>\n",
              "      <td>0.000104</td>\n",
              "      <td>0.000000</td>\n",
              "    </tr>\n",
              "    <tr>\n",
              "      <th>...</th>\n",
              "      <td>...</td>\n",
              "      <td>...</td>\n",
              "    </tr>\n",
              "    <tr>\n",
              "      <th>Volkswagen</th>\n",
              "      <td>0.012184</td>\n",
              "      <td>0.000521</td>\n",
              "    </tr>\n",
              "    <tr>\n",
              "      <th>Volvo</th>\n",
              "      <td>0.003020</td>\n",
              "      <td>0.000833</td>\n",
              "    </tr>\n",
              "    <tr>\n",
              "      <th>Wrangler Jeep</th>\n",
              "      <td>0.000208</td>\n",
              "      <td>0.000000</td>\n",
              "    </tr>\n",
              "    <tr>\n",
              "      <th>Yamaha</th>\n",
              "      <td>0.000104</td>\n",
              "      <td>0.000000</td>\n",
              "    </tr>\n",
              "    <tr>\n",
              "      <th>ZOYTE</th>\n",
              "      <td>0.000104</td>\n",
              "      <td>0.000000</td>\n",
              "    </tr>\n",
              "  </tbody>\n",
              "</table>\n",
              "<p>74 rows × 2 columns</p>\n",
              "</div>"
            ],
            "text/plain": [
              "target                   0         1\n",
              "Subject_Car_Make                    \n",
              ".                 0.003124  0.001458\n",
              "ABG               0.000104  0.000000\n",
              "ACURA             0.006040  0.000729\n",
              "As Attached       0.000625  0.000521\n",
              "Ashok Leyland     0.000104  0.000000\n",
              "...                    ...       ...\n",
              "Volkswagen        0.012184  0.000521\n",
              "Volvo             0.003020  0.000833\n",
              "Wrangler Jeep     0.000208  0.000000\n",
              "Yamaha            0.000104  0.000000\n",
              "ZOYTE             0.000104  0.000000\n",
              "\n",
              "[74 rows x 2 columns]"
            ]
          },
          "metadata": {
            "tags": []
          },
          "execution_count": 27
        }
      ]
    },
    {
      "cell_type": "markdown",
      "metadata": {
        "id": "ubfYaxFa-dkq"
      },
      "source": [
        "# Extract Date features"
      ]
    },
    {
      "cell_type": "code",
      "metadata": {
        "id": "Xkg1kiLFjH3x"
      },
      "source": [
        "date_col = ['Policy Start Date', 'Policy End Date', 'First Transaction Date']"
      ],
      "execution_count": 28,
      "outputs": []
    },
    {
      "cell_type": "code",
      "metadata": {
        "id": "U7ReQliji_Na"
      },
      "source": [
        "def extract_date_info(df,cols,):\n",
        "    for feat in cols:\n",
        "        df[feat +'_day'] = df[feat].dt.day\n",
        "        df[feat +'_month'] = df[feat].dt.month\n",
        "        df[feat +'_quarter'] = df[feat].dt.quarter\n",
        "    df.drop(columns=date_col,axis=1,inplace=True)"
      ],
      "execution_count": 29,
      "outputs": []
    },
    {
      "cell_type": "code",
      "metadata": {
        "id": "KP4f4yCWjAzx"
      },
      "source": [
        "extract_date_info(all_data,date_col)"
      ],
      "execution_count": 30,
      "outputs": []
    },
    {
      "cell_type": "code",
      "metadata": {
        "id": "9XGoVPwUc6cr"
      },
      "source": [
        "all_data1 = all_data.copy()"
      ],
      "execution_count": 31,
      "outputs": []
    },
    {
      "cell_type": "code",
      "metadata": {
        "id": "FgkvitHrcDep"
      },
      "source": [
        "cat_feat = all_data1.select_dtypes(exclude = np.number).columns\n",
        "num_feat = all_data1.select_dtypes(exclude = object).columns"
      ],
      "execution_count": 32,
      "outputs": []
    },
    {
      "cell_type": "code",
      "metadata": {
        "colab": {
          "base_uri": "https://localhost:8080/"
        },
        "id": "xPtRJZt0c0K6",
        "outputId": "09cc0cd9-90ae-46e8-b675-ef92afa59f1b"
      },
      "source": [
        "num_feat"
      ],
      "execution_count": 33,
      "outputs": [
        {
          "output_type": "execute_result",
          "data": {
            "text/plain": [
              "Index(['Age', 'No_Pol', 'target', 'Date diff', 'Policy Start Date_day',\n",
              "       'Policy Start Date_month', 'Policy Start Date_quarter',\n",
              "       'Policy End Date_day', 'Policy End Date_month',\n",
              "       'Policy End Date_quarter', 'First Transaction Date_day',\n",
              "       'First Transaction Date_month', 'First Transaction Date_quarter'],\n",
              "      dtype='object')"
            ]
          },
          "metadata": {
            "tags": []
          },
          "execution_count": 33
        }
      ]
    },
    {
      "cell_type": "markdown",
      "metadata": {
        "id": "y1IxsVrD-g7O"
      },
      "source": [
        "# Deal with missing values"
      ]
    },
    {
      "cell_type": "code",
      "metadata": {
        "id": "RvybGOhVc2Bb"
      },
      "source": [
        "for col in num_feat:\n",
        "  if col != 'target':\n",
        "    all_data1[col].fillna(-999, inplace = True)\n",
        "    \n",
        "    \n",
        "    \n",
        "for col in cat_feat:\n",
        "    all_data1[col].fillna('NONE', inplace = True)"
      ],
      "execution_count": 34,
      "outputs": []
    },
    {
      "cell_type": "code",
      "metadata": {
        "colab": {
          "base_uri": "https://localhost:8080/",
          "height": 198
        },
        "id": "1Mdk-_E1eLO8",
        "outputId": "ea410061-994d-41f9-d55c-c0c0a4948a9e"
      },
      "source": [
        "all_data1.head(3)"
      ],
      "execution_count": 35,
      "outputs": [
        {
          "output_type": "execute_result",
          "data": {
            "text/html": [
              "<div>\n",
              "<style scoped>\n",
              "    .dataframe tbody tr th:only-of-type {\n",
              "        vertical-align: middle;\n",
              "    }\n",
              "\n",
              "    .dataframe tbody tr th {\n",
              "        vertical-align: top;\n",
              "    }\n",
              "\n",
              "    .dataframe thead th {\n",
              "        text-align: right;\n",
              "    }\n",
              "</style>\n",
              "<table border=\"1\" class=\"dataframe\">\n",
              "  <thead>\n",
              "    <tr style=\"text-align: right;\">\n",
              "      <th></th>\n",
              "      <th>ID</th>\n",
              "      <th>Gender</th>\n",
              "      <th>Age</th>\n",
              "      <th>No_Pol</th>\n",
              "      <th>Car_Category</th>\n",
              "      <th>Subject_Car_Colour</th>\n",
              "      <th>Subject_Car_Make</th>\n",
              "      <th>LGA_Name</th>\n",
              "      <th>State</th>\n",
              "      <th>ProductName</th>\n",
              "      <th>target</th>\n",
              "      <th>Date diff</th>\n",
              "      <th>Policy Start Date_day</th>\n",
              "      <th>Policy Start Date_month</th>\n",
              "      <th>Policy Start Date_quarter</th>\n",
              "      <th>Policy End Date_day</th>\n",
              "      <th>Policy End Date_month</th>\n",
              "      <th>Policy End Date_quarter</th>\n",
              "      <th>First Transaction Date_day</th>\n",
              "      <th>First Transaction Date_month</th>\n",
              "      <th>First Transaction Date_quarter</th>\n",
              "    </tr>\n",
              "  </thead>\n",
              "  <tbody>\n",
              "    <tr>\n",
              "      <th>0</th>\n",
              "      <td>0040R73</td>\n",
              "      <td>Male</td>\n",
              "      <td>30</td>\n",
              "      <td>1</td>\n",
              "      <td>Saloon</td>\n",
              "      <td>Black</td>\n",
              "      <td>TOYOTA</td>\n",
              "      <td>NONE</td>\n",
              "      <td>NONE</td>\n",
              "      <td>Car Classic</td>\n",
              "      <td>0.0</td>\n",
              "      <td>12</td>\n",
              "      <td>14</td>\n",
              "      <td>5</td>\n",
              "      <td>2</td>\n",
              "      <td>13</td>\n",
              "      <td>5</td>\n",
              "      <td>2</td>\n",
              "      <td>14</td>\n",
              "      <td>5</td>\n",
              "      <td>2</td>\n",
              "    </tr>\n",
              "    <tr>\n",
              "      <th>1</th>\n",
              "      <td>0046BNK</td>\n",
              "      <td>Female</td>\n",
              "      <td>79</td>\n",
              "      <td>1</td>\n",
              "      <td>JEEP</td>\n",
              "      <td>Grey</td>\n",
              "      <td>TOYOTA</td>\n",
              "      <td>NONE</td>\n",
              "      <td>NONE</td>\n",
              "      <td>Car Classic</td>\n",
              "      <td>1.0</td>\n",
              "      <td>12</td>\n",
              "      <td>29</td>\n",
              "      <td>11</td>\n",
              "      <td>4</td>\n",
              "      <td>28</td>\n",
              "      <td>11</td>\n",
              "      <td>4</td>\n",
              "      <td>29</td>\n",
              "      <td>11</td>\n",
              "      <td>4</td>\n",
              "    </tr>\n",
              "    <tr>\n",
              "      <th>2</th>\n",
              "      <td>005QMC3</td>\n",
              "      <td>Male</td>\n",
              "      <td>43</td>\n",
              "      <td>1</td>\n",
              "      <td>Saloon</td>\n",
              "      <td>Red</td>\n",
              "      <td>TOYOTA</td>\n",
              "      <td>NONE</td>\n",
              "      <td>NONE</td>\n",
              "      <td>Car Classic</td>\n",
              "      <td>0.0</td>\n",
              "      <td>12</td>\n",
              "      <td>21</td>\n",
              "      <td>3</td>\n",
              "      <td>1</td>\n",
              "      <td>20</td>\n",
              "      <td>3</td>\n",
              "      <td>1</td>\n",
              "      <td>21</td>\n",
              "      <td>3</td>\n",
              "      <td>1</td>\n",
              "    </tr>\n",
              "  </tbody>\n",
              "</table>\n",
              "</div>"
            ],
            "text/plain": [
              "        ID  ... First Transaction Date_quarter\n",
              "0  0040R73  ...                              2\n",
              "1  0046BNK  ...                              4\n",
              "2  005QMC3  ...                              1\n",
              "\n",
              "[3 rows x 21 columns]"
            ]
          },
          "metadata": {
            "tags": []
          },
          "execution_count": 35
        }
      ]
    },
    {
      "cell_type": "markdown",
      "metadata": {
        "id": "8M4QyeII-lW7"
      },
      "source": [
        "# Feature Engineering"
      ]
    },
    {
      "cell_type": "code",
      "metadata": {
        "id": "pz2RKX6_eXYT"
      },
      "source": [
        "all_data1['LGA_Name'] = all_data1['LGA_Name'].map(all_data1['LGA_Name'].value_counts().to_dict())\n",
        "all_data1['State'] = all_data1['State'].map(all_data1['State'].value_counts().to_dict())"
      ],
      "execution_count": 36,
      "outputs": []
    },
    {
      "cell_type": "code",
      "metadata": {
        "id": "rY4XjC8dfoDV"
      },
      "source": [
        "all_data1['Subject_Car_Make'] = all_data1['Subject_Car_Make'].map(all_data1['Subject_Car_Make'].value_counts().to_dict())\n",
        "all_data1['Subject_Car_Colour'] = all_data1['Subject_Car_Colour'].map(all_data1['Subject_Car_Colour'].value_counts().to_dict())"
      ],
      "execution_count": 37,
      "outputs": []
    },
    {
      "cell_type": "code",
      "metadata": {
        "id": "4KJmv-fU-74w"
      },
      "source": [
        "mapper = {\"Male\":\"M\",\"Female\":'F','Entity':'O','Joint Gender':'O',None:'O','NO GENDER':'O','NOT STATED':'O','SEX':'O' }\n",
        "all_data1.Gender = all_data.Gender.map(mapper)"
      ],
      "execution_count": 38,
      "outputs": []
    },
    {
      "cell_type": "code",
      "metadata": {
        "id": "nDYm6sUu_Lfc"
      },
      "source": [
        "#encode categorical variable\n",
        "\n",
        "from sklearn.preprocessing import LabelEncoder\n",
        "for i in ['ProductName', 'Car_Category']:\n",
        "  encoder = LabelEncoder()\n",
        "  all_data1[str(i)] = encoder.fit_transform(all_data1[str(i)])"
      ],
      "execution_count": 39,
      "outputs": []
    },
    {
      "cell_type": "code",
      "metadata": {
        "id": "5IkNBkG2_WHS"
      },
      "source": [
        "all_data1['no_pol_prod_name'] = all_data1['No_Pol'] + all_data1['ProductName']"
      ],
      "execution_count": 40,
      "outputs": []
    },
    {
      "cell_type": "code",
      "metadata": {
        "colab": {
          "base_uri": "https://localhost:8080/",
          "height": 261
        },
        "id": "Kvugx89vfC8-",
        "outputId": "dd01ebfc-c664-435e-b63d-ac9b114bf99d"
      },
      "source": [
        "all_data1.head()"
      ],
      "execution_count": 41,
      "outputs": [
        {
          "output_type": "execute_result",
          "data": {
            "text/html": [
              "<div>\n",
              "<style scoped>\n",
              "    .dataframe tbody tr th:only-of-type {\n",
              "        vertical-align: middle;\n",
              "    }\n",
              "\n",
              "    .dataframe tbody tr th {\n",
              "        vertical-align: top;\n",
              "    }\n",
              "\n",
              "    .dataframe thead th {\n",
              "        text-align: right;\n",
              "    }\n",
              "</style>\n",
              "<table border=\"1\" class=\"dataframe\">\n",
              "  <thead>\n",
              "    <tr style=\"text-align: right;\">\n",
              "      <th></th>\n",
              "      <th>ID</th>\n",
              "      <th>Gender</th>\n",
              "      <th>Age</th>\n",
              "      <th>No_Pol</th>\n",
              "      <th>Car_Category</th>\n",
              "      <th>Subject_Car_Colour</th>\n",
              "      <th>Subject_Car_Make</th>\n",
              "      <th>LGA_Name</th>\n",
              "      <th>State</th>\n",
              "      <th>ProductName</th>\n",
              "      <th>target</th>\n",
              "      <th>Date diff</th>\n",
              "      <th>Policy Start Date_day</th>\n",
              "      <th>Policy Start Date_month</th>\n",
              "      <th>Policy Start Date_quarter</th>\n",
              "      <th>Policy End Date_day</th>\n",
              "      <th>Policy End Date_month</th>\n",
              "      <th>Policy End Date_quarter</th>\n",
              "      <th>First Transaction Date_day</th>\n",
              "      <th>First Transaction Date_month</th>\n",
              "      <th>First Transaction Date_quarter</th>\n",
              "      <th>no_pol_prod_name</th>\n",
              "    </tr>\n",
              "  </thead>\n",
              "  <tbody>\n",
              "    <tr>\n",
              "      <th>0</th>\n",
              "      <td>0040R73</td>\n",
              "      <td>M</td>\n",
              "      <td>30</td>\n",
              "      <td>1</td>\n",
              "      <td>9</td>\n",
              "      <td>2668</td>\n",
              "      <td>7099</td>\n",
              "      <td>9258</td>\n",
              "      <td>9276</td>\n",
              "      <td>1</td>\n",
              "      <td>0.0</td>\n",
              "      <td>12</td>\n",
              "      <td>14</td>\n",
              "      <td>5</td>\n",
              "      <td>2</td>\n",
              "      <td>13</td>\n",
              "      <td>5</td>\n",
              "      <td>2</td>\n",
              "      <td>14</td>\n",
              "      <td>5</td>\n",
              "      <td>2</td>\n",
              "      <td>2</td>\n",
              "    </tr>\n",
              "    <tr>\n",
              "      <th>1</th>\n",
              "      <td>0046BNK</td>\n",
              "      <td>F</td>\n",
              "      <td>79</td>\n",
              "      <td>1</td>\n",
              "      <td>2</td>\n",
              "      <td>728</td>\n",
              "      <td>7099</td>\n",
              "      <td>9258</td>\n",
              "      <td>9276</td>\n",
              "      <td>1</td>\n",
              "      <td>1.0</td>\n",
              "      <td>12</td>\n",
              "      <td>29</td>\n",
              "      <td>11</td>\n",
              "      <td>4</td>\n",
              "      <td>28</td>\n",
              "      <td>11</td>\n",
              "      <td>4</td>\n",
              "      <td>29</td>\n",
              "      <td>11</td>\n",
              "      <td>4</td>\n",
              "      <td>2</td>\n",
              "    </tr>\n",
              "    <tr>\n",
              "      <th>2</th>\n",
              "      <td>005QMC3</td>\n",
              "      <td>M</td>\n",
              "      <td>43</td>\n",
              "      <td>1</td>\n",
              "      <td>9</td>\n",
              "      <td>361</td>\n",
              "      <td>7099</td>\n",
              "      <td>9258</td>\n",
              "      <td>9276</td>\n",
              "      <td>1</td>\n",
              "      <td>0.0</td>\n",
              "      <td>12</td>\n",
              "      <td>21</td>\n",
              "      <td>3</td>\n",
              "      <td>1</td>\n",
              "      <td>20</td>\n",
              "      <td>3</td>\n",
              "      <td>1</td>\n",
              "      <td>21</td>\n",
              "      <td>3</td>\n",
              "      <td>1</td>\n",
              "      <td>2</td>\n",
              "    </tr>\n",
              "    <tr>\n",
              "      <th>3</th>\n",
              "      <td>0079OHW</td>\n",
              "      <td>M</td>\n",
              "      <td>2</td>\n",
              "      <td>1</td>\n",
              "      <td>6</td>\n",
              "      <td>9967</td>\n",
              "      <td>3537</td>\n",
              "      <td>9258</td>\n",
              "      <td>9276</td>\n",
              "      <td>5</td>\n",
              "      <td>0.0</td>\n",
              "      <td>12</td>\n",
              "      <td>21</td>\n",
              "      <td>8</td>\n",
              "      <td>3</td>\n",
              "      <td>20</td>\n",
              "      <td>8</td>\n",
              "      <td>3</td>\n",
              "      <td>21</td>\n",
              "      <td>8</td>\n",
              "      <td>3</td>\n",
              "      <td>6</td>\n",
              "    </tr>\n",
              "    <tr>\n",
              "      <th>4</th>\n",
              "      <td>00BRP63</td>\n",
              "      <td>O</td>\n",
              "      <td>20</td>\n",
              "      <td>3</td>\n",
              "      <td>6</td>\n",
              "      <td>9967</td>\n",
              "      <td>3537</td>\n",
              "      <td>244</td>\n",
              "      <td>4550</td>\n",
              "      <td>8</td>\n",
              "      <td>1.0</td>\n",
              "      <td>4</td>\n",
              "      <td>29</td>\n",
              "      <td>8</td>\n",
              "      <td>3</td>\n",
              "      <td>31</td>\n",
              "      <td>12</td>\n",
              "      <td>4</td>\n",
              "      <td>29</td>\n",
              "      <td>8</td>\n",
              "      <td>3</td>\n",
              "      <td>11</td>\n",
              "    </tr>\n",
              "  </tbody>\n",
              "</table>\n",
              "</div>"
            ],
            "text/plain": [
              "        ID Gender  ...  First Transaction Date_quarter  no_pol_prod_name\n",
              "0  0040R73      M  ...                               2                 2\n",
              "1  0046BNK      F  ...                               4                 2\n",
              "2  005QMC3      M  ...                               1                 2\n",
              "3  0079OHW      M  ...                               3                 6\n",
              "4  00BRP63      O  ...                               3                11\n",
              "\n",
              "[5 rows x 22 columns]"
            ]
          },
          "metadata": {
            "tags": []
          },
          "execution_count": 41
        }
      ]
    },
    {
      "cell_type": "code",
      "metadata": {
        "colab": {
          "base_uri": "https://localhost:8080/"
        },
        "id": "gG-QTdgnf0tG",
        "outputId": "a2cf9ab9-705d-41f0-9b60-a336329507f3"
      },
      "source": [
        "print(\"Are There still Missing value in data? :\",all_data1.isnull().any().any())\n",
        "print((all_data1.isnull().sum()/all_data1.shape[0])*100)"
      ],
      "execution_count": 42,
      "outputs": [
        {
          "output_type": "stream",
          "text": [
            "Are There still Missing value in data? : True\n",
            "ID                                 0.000000\n",
            "Gender                             2.984469\n",
            "Age                                0.000000\n",
            "No_Pol                             0.000000\n",
            "Car_Category                       0.000000\n",
            "Subject_Car_Colour                 0.000000\n",
            "Subject_Car_Make                   0.000000\n",
            "LGA_Name                           0.000000\n",
            "State                              0.000000\n",
            "ProductName                        0.000000\n",
            "target                            30.001159\n",
            "Date diff                          0.000000\n",
            "Policy Start Date_day              0.000000\n",
            "Policy Start Date_month            0.000000\n",
            "Policy Start Date_quarter          0.000000\n",
            "Policy End Date_day                0.000000\n",
            "Policy End Date_month              0.000000\n",
            "Policy End Date_quarter            0.000000\n",
            "First Transaction Date_day         0.000000\n",
            "First Transaction Date_month       0.000000\n",
            "First Transaction Date_quarter     0.000000\n",
            "no_pol_prod_name                   0.000000\n",
            "dtype: float64\n"
          ],
          "name": "stdout"
        }
      ]
    },
    {
      "cell_type": "code",
      "metadata": {
        "id": "RAAUclcmggz3"
      },
      "source": [
        "all_data1.drop(columns=['ID', 'Subject_Car_Colour'],inplace=True)"
      ],
      "execution_count": 43,
      "outputs": []
    },
    {
      "cell_type": "code",
      "metadata": {
        "id": "-_3gCH1N_mlA"
      },
      "source": [
        "all_data1=pd.get_dummies(all_data1)\n"
      ],
      "execution_count": 44,
      "outputs": []
    },
    {
      "cell_type": "markdown",
      "metadata": {
        "id": "icef-yh_-quA"
      },
      "source": [
        "# Model training"
      ]
    },
    {
      "cell_type": "code",
      "metadata": {
        "id": "admikkllg9Go"
      },
      "source": [
        "#Get the new dataset\n",
        "train_n = all_data1[:ntrain].copy()\n",
        "test_n = all_data1[ntrain:].copy()"
      ],
      "execution_count": 45,
      "outputs": []
    },
    {
      "cell_type": "code",
      "metadata": {
        "id": "tn4g-BJnhA4F"
      },
      "source": [
        "test_n.drop(\"target\",axis = 1,inplace = True)"
      ],
      "execution_count": 46,
      "outputs": []
    },
    {
      "cell_type": "code",
      "metadata": {
        "id": "wsGhEHLJhIrN"
      },
      "source": [
        "X= train_n.drop(columns=['target'])\n",
        "y= train_n.target"
      ],
      "execution_count": 47,
      "outputs": []
    },
    {
      "cell_type": "code",
      "metadata": {
        "id": "GX3UAi9Hhf4X"
      },
      "source": [
        "#pip install catboost"
      ],
      "execution_count": 48,
      "outputs": []
    },
    {
      "cell_type": "code",
      "metadata": {
        "id": "AWvlbRXxhi-s"
      },
      "source": [
        "from catboost import CatBoostClassifier\n",
        "from sklearn.model_selection import StratifiedKFold, KFold, train_test_split"
      ],
      "execution_count": 49,
      "outputs": []
    },
    {
      "cell_type": "code",
      "metadata": {
        "id": "uWRSsLLBhNVQ"
      },
      "source": [
        "X_train, X_test, y_train, y_test = train_test_split(X, y, test_size=0.1, random_state=44)"
      ],
      "execution_count": 50,
      "outputs": []
    },
    {
      "cell_type": "code",
      "metadata": {
        "id": "eD9kZVRn__YL"
      },
      "source": [
        "from sklearn.utils import class_weight\n",
        "class_weight = dict(zip(np.unique(y), class_weight.compute_class_weight('balanced',\n",
        "                                                 np.unique(y),\n",
        "                                                 y))) "
      ],
      "execution_count": 51,
      "outputs": []
    },
    {
      "cell_type": "markdown",
      "metadata": {
        "id": "p9PMd4XP-ulK"
      },
      "source": [
        "Using Catboost"
      ]
    },
    {
      "cell_type": "code",
      "metadata": {
        "id": "vV5TtQyxhaWE"
      },
      "source": [
        "model2=CatBoostClassifier(class_weights=class_weight, n_estimators=800,eval_metric='AUC',max_depth=4,learning_rate=0.1,#reg_lambda=5,#5\n",
        "                              subsample=0.9,bootstrap_type='Bernoulli',#leaf_estimation_iterations=10,\n",
        "                    #l2_leaf_reg=5,#bagging_temperature=0.85,random_strength=100,\n",
        "                     use_best_model=True,allow_writing_files=False, metric_period=20)"
      ],
      "execution_count": 52,
      "outputs": []
    },
    {
      "cell_type": "code",
      "metadata": {
        "colab": {
          "base_uri": "https://localhost:8080/"
        },
        "id": "NaSuybW5hnNI",
        "outputId": "193b56db-c39f-43b5-8388-949e97bd4e7b"
      },
      "source": [
        "model2.fit(X_train, y_train, eval_set=(X_test, y_test))"
      ],
      "execution_count": 53,
      "outputs": [
        {
          "output_type": "stream",
          "text": [
            "0:\ttest: 0.7039397\tbest: 0.7039397 (0)\ttotal: 58.6ms\tremaining: 46.8s\n",
            "20:\ttest: 0.7864506\tbest: 0.7864506 (20)\ttotal: 168ms\tremaining: 6.24s\n",
            "40:\ttest: 0.7899274\tbest: 0.7899274 (40)\ttotal: 274ms\tremaining: 5.07s\n",
            "60:\ttest: 0.7916314\tbest: 0.7916314 (60)\ttotal: 389ms\tremaining: 4.71s\n",
            "80:\ttest: 0.7920483\tbest: 0.7920483 (80)\ttotal: 502ms\tremaining: 4.45s\n",
            "100:\ttest: 0.7956565\tbest: 0.7956565 (100)\ttotal: 609ms\tremaining: 4.21s\n",
            "120:\ttest: 0.7998785\tbest: 0.7998785 (120)\ttotal: 727ms\tremaining: 4.08s\n",
            "140:\ttest: 0.8037395\tbest: 0.8037395 (140)\ttotal: 830ms\tremaining: 3.88s\n",
            "160:\ttest: 0.8030566\tbest: 0.8037395 (140)\ttotal: 938ms\tremaining: 3.72s\n",
            "180:\ttest: 0.8030172\tbest: 0.8037395 (140)\ttotal: 1.04s\tremaining: 3.56s\n",
            "200:\ttest: 0.8047769\tbest: 0.8047769 (200)\ttotal: 1.14s\tremaining: 3.4s\n",
            "220:\ttest: 0.8073640\tbest: 0.8073640 (220)\ttotal: 1.21s\tremaining: 3.18s\n",
            "240:\ttest: 0.8079681\tbest: 0.8079681 (240)\ttotal: 1.29s\tremaining: 3s\n",
            "260:\ttest: 0.8087232\tbest: 0.8087232 (260)\ttotal: 1.41s\tremaining: 2.92s\n",
            "280:\ttest: 0.8108441\tbest: 0.8108441 (280)\ttotal: 1.52s\tremaining: 2.8s\n",
            "300:\ttest: 0.8106865\tbest: 0.8108441 (280)\ttotal: 1.63s\tremaining: 2.7s\n",
            "320:\ttest: 0.8091894\tbest: 0.8108441 (280)\ttotal: 1.74s\tremaining: 2.6s\n",
            "340:\ttest: 0.8095768\tbest: 0.8108441 (280)\ttotal: 1.85s\tremaining: 2.49s\n",
            "360:\ttest: 0.8079812\tbest: 0.8108441 (280)\ttotal: 1.96s\tremaining: 2.39s\n",
            "380:\ttest: 0.8097016\tbest: 0.8108441 (280)\ttotal: 2.07s\tremaining: 2.28s\n",
            "400:\ttest: 0.8089858\tbest: 0.8108441 (280)\ttotal: 2.17s\tremaining: 2.16s\n",
            "420:\ttest: 0.8091369\tbest: 0.8108441 (280)\ttotal: 2.29s\tremaining: 2.06s\n",
            "440:\ttest: 0.8089268\tbest: 0.8108441 (280)\ttotal: 2.39s\tremaining: 1.94s\n",
            "460:\ttest: 0.8090646\tbest: 0.8108441 (280)\ttotal: 2.49s\tremaining: 1.83s\n",
            "480:\ttest: 0.8097016\tbest: 0.8108441 (280)\ttotal: 2.6s\tremaining: 1.73s\n",
            "500:\ttest: 0.8099708\tbest: 0.8108441 (280)\ttotal: 2.71s\tremaining: 1.62s\n",
            "520:\ttest: 0.8109688\tbest: 0.8109688 (520)\ttotal: 2.82s\tremaining: 1.51s\n",
            "540:\ttest: 0.8115073\tbest: 0.8115073 (540)\ttotal: 2.93s\tremaining: 1.4s\n",
            "560:\ttest: 0.8121639\tbest: 0.8121639 (560)\ttotal: 3.03s\tremaining: 1.29s\n",
            "580:\ttest: 0.8122361\tbest: 0.8122361 (580)\ttotal: 3.1s\tremaining: 1.17s\n",
            "600:\ttest: 0.8120063\tbest: 0.8122361 (580)\ttotal: 3.19s\tremaining: 1.06s\n",
            "620:\ttest: 0.8117896\tbest: 0.8122361 (580)\ttotal: 3.31s\tremaining: 954ms\n",
            "640:\ttest: 0.8129584\tbest: 0.8129584 (640)\ttotal: 3.42s\tremaining: 849ms\n",
            "660:\ttest: 0.8138317\tbest: 0.8138317 (660)\ttotal: 3.53s\tremaining: 742ms\n",
            "680:\ttest: 0.8140681\tbest: 0.8140681 (680)\ttotal: 3.63s\tremaining: 635ms\n",
            "700:\ttest: 0.8143898\tbest: 0.8143898 (700)\ttotal: 3.75s\tremaining: 530ms\n",
            "720:\ttest: 0.8149874\tbest: 0.8149874 (720)\ttotal: 3.86s\tremaining: 423ms\n",
            "740:\ttest: 0.8148232\tbest: 0.8149874 (720)\ttotal: 3.97s\tremaining: 316ms\n",
            "760:\ttest: 0.8146262\tbest: 0.8149874 (720)\ttotal: 4.08s\tremaining: 209ms\n",
            "780:\ttest: 0.8148298\tbest: 0.8149874 (720)\ttotal: 4.18s\tremaining: 102ms\n",
            "799:\ttest: 0.8150005\tbest: 0.8150005 (799)\ttotal: 4.29s\tremaining: 0us\n",
            "\n",
            "bestTest = 0.8150004925\n",
            "bestIteration = 799\n",
            "\n"
          ],
          "name": "stdout"
        },
        {
          "output_type": "execute_result",
          "data": {
            "text/plain": [
              "<catboost.core.CatBoostClassifier at 0x7fc9b9e20710>"
            ]
          },
          "metadata": {
            "tags": []
          },
          "execution_count": 53
        }
      ]
    },
    {
      "cell_type": "markdown",
      "metadata": {
        "id": "kI0PIvZN-yFQ"
      },
      "source": [
        "Using xgboost"
      ]
    },
    {
      "cell_type": "code",
      "metadata": {
        "id": "JmbESefQQ2DM"
      },
      "source": [
        "from xgboost import XGBClassifier\n",
        "from collections import Counter"
      ],
      "execution_count": 54,
      "outputs": []
    },
    {
      "cell_type": "code",
      "metadata": {
        "colab": {
          "base_uri": "https://localhost:8080/"
        },
        "id": "aw863QjPRwMU",
        "outputId": "2f8c186b-c72c-4af7-edaf-151530da9f8a"
      },
      "source": [
        "counter = Counter(y)\n",
        "# estimate scale_pos_weight value\n",
        "estimate = counter[0] / counter[1]\n",
        "print('Estimate: %.3f' % estimate)"
      ],
      "execution_count": 55,
      "outputs": [
        {
          "output_type": "stream",
          "text": [
            "Estimate: 7.302\n"
          ],
          "name": "stdout"
        }
      ]
    },
    {
      "cell_type": "code",
      "metadata": {
        "colab": {
          "base_uri": "https://localhost:8080/"
        },
        "id": "XJTAo10nT4Ql",
        "outputId": "b5c0acd7-76ba-416a-dec2-a74df56d9baf"
      },
      "source": [
        "m9=XGBClassifier(scale_pos_weight=8.1922929, max_depth=10, learning_rate=0.143242, n_estimators=800, silent=True, metrics='auc',colsample_bylevel=0.8, reg_alpha=0.8)\n",
        "m9.fit(X_train,y_train,eval_set=[(X_train,y_train),(X_test, y_test)], early_stopping_rounds=100,verbose=100)"
      ],
      "execution_count": 56,
      "outputs": [
        {
          "output_type": "stream",
          "text": [
            "[0]\tvalidation_0-error:0.282495\tvalidation_1-error:0.317053\n",
            "Multiple eval metrics have been passed: 'validation_1-error' will be used for early stopping.\n",
            "\n",
            "Will train until validation_1-error hasn't improved in 100 rounds.\n",
            "[100]\tvalidation_0-error:0.069451\tvalidation_1-error:0.17798\n",
            "[200]\tvalidation_0-error:0.053905\tvalidation_1-error:0.17053\n",
            "Stopping. Best iteration:\n",
            "[146]\tvalidation_0-error:0.058412\tvalidation_1-error:0.165563\n",
            "\n"
          ],
          "name": "stdout"
        },
        {
          "output_type": "execute_result",
          "data": {
            "text/plain": [
              "XGBClassifier(base_score=0.5, booster='gbtree', colsample_bylevel=0.8,\n",
              "              colsample_bynode=1, colsample_bytree=1, gamma=0,\n",
              "              learning_rate=0.143242, max_delta_step=0, max_depth=10,\n",
              "              metrics='auc', min_child_weight=1, missing=None, n_estimators=800,\n",
              "              n_jobs=1, nthread=None, objective='binary:logistic',\n",
              "              random_state=0, reg_alpha=0.8, reg_lambda=1,\n",
              "              scale_pos_weight=8.1922929, seed=None, silent=True, subsample=1,\n",
              "              verbosity=1)"
            ]
          },
          "metadata": {
            "tags": []
          },
          "execution_count": 56
        }
      ]
    },
    {
      "cell_type": "code",
      "metadata": {
        "colab": {
          "base_uri": "https://localhost:8080/",
          "height": 585
        },
        "id": "SuXNEvB88zqu",
        "outputId": "e3332564-c86b-4ab6-b6f3-b45094fd5603"
      },
      "source": [
        "# summarize and sort feature importance for the ridge model\n",
        "importance = m9.feature_importances_\n",
        "col_sorted_by_importance=importance.argsort()\n",
        "\n",
        "# Passing the sorted feature importance into a dataframe\n",
        "feat_imp3=pd.DataFrame({\n",
        "    'cols':test_n.columns[col_sorted_by_importance],\n",
        "    'imps':importance[col_sorted_by_importance]\n",
        "})\n",
        "\n",
        "# plot feature importance\n",
        "plt.figure(figsize=(14,8))\n",
        "sns.set_style(\"darkgrid\")\n",
        "plt.bar(x='cols', height='imps',data=feat_imp3)\n",
        "plt.ylabel('Feature importance')\n",
        "plt.xlabel('Features')\n",
        "plt.xticks(rotation=50)\n",
        "plt.tight_layout()"
      ],
      "execution_count": 57,
      "outputs": [
        {
          "output_type": "display_data",
          "data": {
            "image/png": "[encoded data removed]",
            "text/plain": [
              "<Figure size 1008x576 with 1 Axes>"
            ]
          },
          "metadata": {
            "tags": [],
            "needs_background": "light"
          }
        }
      ]
    },
    {
      "cell_type": "code",
      "metadata": {
        "colab": {
          "base_uri": "https://localhost:8080/"
        },
        "id": "hQZJiSZjXb4X",
        "outputId": "b9c8acb5-1215-4cbe-c78c-73e8101b6094"
      },
      "source": [
        "m10=XGBClassifier(scale_pos_weight=12, max_depth=14, learning_rate=0.22, n_estimators=800, silent=True, metrics='auc',colsample_bylevel=0.85, reg_alpha=0.8)\n",
        "m10.fit(X_train,y_train,eval_set=[(X_train,y_train),(X_test, y_test)], early_stopping_rounds=100,verbose=100)"
      ],
      "execution_count": 58,
      "outputs": [
        {
          "output_type": "stream",
          "text": [
            "[0]\tvalidation_0-error:0.2457\tvalidation_1-error:0.305464\n",
            "Multiple eval metrics have been passed: 'validation_1-error' will be used for early stopping.\n",
            "\n",
            "Will train until validation_1-error hasn't improved in 100 rounds.\n",
            "[100]\tvalidation_0-error:0.052525\tvalidation_1-error:0.169702\n",
            "[200]\tvalidation_0-error:0.051697\tvalidation_1-error:0.165563\n",
            "[300]\tvalidation_0-error:0.051697\tvalidation_1-error:0.164735\n",
            "Stopping. Best iteration:\n",
            "[232]\tvalidation_0-error:0.051697\tvalidation_1-error:0.163907\n",
            "\n"
          ],
          "name": "stdout"
        },
        {
          "output_type": "execute_result",
          "data": {
            "text/plain": [
              "XGBClassifier(base_score=0.5, booster='gbtree', colsample_bylevel=0.85,\n",
              "              colsample_bynode=1, colsample_bytree=1, gamma=0,\n",
              "              learning_rate=0.22, max_delta_step=0, max_depth=14, metrics='auc',\n",
              "              min_child_weight=1, missing=None, n_estimators=800, n_jobs=1,\n",
              "              nthread=None, objective='binary:logistic', random_state=0,\n",
              "              reg_alpha=0.8, reg_lambda=1, scale_pos_weight=12, seed=None,\n",
              "              silent=True, subsample=1, verbosity=1)"
            ]
          },
          "metadata": {
            "tags": []
          },
          "execution_count": 58
        }
      ]
    },
    {
      "cell_type": "code",
      "metadata": {
        "colab": {
          "base_uri": "https://localhost:8080/",
          "height": 501
        },
        "id": "ihGWleauRvVJ",
        "outputId": "dc54ff9b-fecb-434e-f5d9-b7f75a990531"
      },
      "source": [
        "fea_imp = pd.DataFrame({'imp':m10.feature_importances_, 'col': X_train.columns})\n",
        "fea_imp = fea_imp.sort_values(['imp', 'col'], ascending=[True, False]).iloc[-30:]\n",
        "_ = fea_imp.plot(kind='barh', x='col', y='imp', figsize=(20, 10))"
      ],
      "execution_count": 59,
      "outputs": [
        {
          "output_type": "display_data",
          "data": {
            "image/png": "[encoded data removed]",
            "text/plain": [
              "<Figure size 1440x720 with 1 Axes>"
            ]
          },
          "metadata": {
            "tags": []
          }
        }
      ]
    },
    {
      "cell_type": "code",
      "metadata": {
        "id": "EcORnKxZmgeD"
      },
      "source": [
        "from sklearn.preprocessing import StandardScaler\n",
        "from sklearn.metrics import roc_auc_score"
      ],
      "execution_count": 60,
      "outputs": []
    },
    {
      "cell_type": "code",
      "metadata": {
        "id": "ktiGvfX2hwtB"
      },
      "source": [
        "ss = pd.read_csv('/content/drive/MyDrive/umoja data/UHNigeria/SampleSubmission.csv')\n",
        "sub_file = ss.copy()"
      ],
      "execution_count": 61,
      "outputs": []
    },
    {
      "cell_type": "markdown",
      "metadata": {
        "id": "cvTgjBG5_HTl"
      },
      "source": [
        "Cross validation"
      ]
    },
    {
      "cell_type": "code",
      "metadata": {
        "id": "4B0NLL6Pdu7H"
      },
      "source": [
        "from sklearn.preprocessing import StandardScaler\n",
        "from sklearn.metrics import roc_auc_score\n",
        "\n",
        "target = 'target'\n",
        "features = [c for c in train_n.columns if c not in ['target']]"
      ],
      "execution_count": 62,
      "outputs": []
    },
    {
      "cell_type": "code",
      "metadata": {
        "colab": {
          "base_uri": "https://localhost:8080/"
        },
        "id": "PItVBA06Ms5X",
        "outputId": "0f132c9c-769a-432a-ef35-4a1a1f732e0a"
      },
      "source": [
        "scores = 0\n",
        "test_oofs = []\n",
        "k = 5\n",
        "kf = StratifiedKFold(k)\n",
        "\n",
        "for i, (tr_idx, vr_idx) in enumerate(kf.split(train_n, train_n[target])):\n",
        "    xtrain, ytrain = train_n.loc[tr_idx, features], train_n.loc[tr_idx, target]\n",
        "    xval, yval = train_n.loc[vr_idx, features], train_n.loc[vr_idx, target]\n",
        "    \n",
        "    #scaler1.fit(xtrain)\n",
        "    \n",
        "    #xtrain = scaler1.transform(xtrain)\n",
        "    #xval = scaler1.transform(xval)\n",
        "    test = test_n[features]\n",
        "\n",
        "   # training and validation\n",
        "    model=XGBClassifier(scale_pos_weight=8.1922929, max_depth=10, \\\n",
        "                        learning_rate=0.143242, n_estimators=800, silent=True,\\\n",
        "                        metrics='auc',colsample_bylevel=0.8, reg_alpha=0.8)\n",
        "    model.fit(xtrain, ytrain, eval_set=[(xval,yval)], early_stopping_rounds=100,verbose=100)\n",
        "    pred = model.predict(xval)\n",
        "\n",
        "    #predicting on test set\n",
        "    predictions = model.predict(test)\n",
        "    score = roc_auc_score(yval, pred)\n",
        "    #\n",
        "    scores += score/k\n",
        "    test_oofs.append(predictions)\n",
        "\n",
        "    print('Fold {} : {}'.format(i, score))\n",
        "\n",
        "print()\n",
        "print()\n",
        "print('roc_auc_score : ', scores)"
      ],
      "execution_count": 63,
      "outputs": [
        {
          "output_type": "stream",
          "text": [
            "[0]\tvalidation_0-error:0.327815\n",
            "Will train until validation_0-error hasn't improved in 100 rounds.\n",
            "[100]\tvalidation_0-error:0.196606\n",
            "[200]\tvalidation_0-error:0.180877\n",
            "[300]\tvalidation_0-error:0.178394\n",
            "[400]\tvalidation_0-error:0.176738\n",
            "Stopping. Best iteration:\n",
            "[387]\tvalidation_0-error:0.176738\n",
            "\n",
            "Fold 0 : 0.5895993531433191\n",
            "[0]\tvalidation_0-error:0.335265\n",
            "Will train until validation_0-error hasn't improved in 100 rounds.\n",
            "[100]\tvalidation_0-error:0.16846\n",
            "[200]\tvalidation_0-error:0.164321\n",
            "[300]\tvalidation_0-error:0.15894\n",
            "[400]\tvalidation_0-error:0.157285\n",
            "Stopping. Best iteration:\n",
            "[363]\tvalidation_0-error:0.156457\n",
            "\n",
            "Fold 1 : 0.6634113604204569\n",
            "[0]\tvalidation_0-error:0.31457\n",
            "Will train until validation_0-error hasn't improved in 100 rounds.\n",
            "[100]\tvalidation_0-error:0.169702\n",
            "[200]\tvalidation_0-error:0.156457\n",
            "[300]\tvalidation_0-error:0.15356\n",
            "Stopping. Best iteration:\n",
            "[284]\tvalidation_0-error:0.152732\n",
            "\n",
            "Fold 2 : 0.6462510612492419\n",
            "[0]\tvalidation_0-error:0.33899\n",
            "Will train until validation_0-error hasn't improved in 100 rounds.\n",
            "[100]\tvalidation_0-error:0.182533\n",
            "[200]\tvalidation_0-error:0.165563\n",
            "[300]\tvalidation_0-error:0.163493\n",
            "[400]\tvalidation_0-error:0.161838\n",
            "[500]\tvalidation_0-error:0.161424\n",
            "Stopping. Best iteration:\n",
            "[415]\tvalidation_0-error:0.160596\n",
            "\n",
            "Fold 3 : 0.634365878310087\n",
            "[0]\tvalidation_0-error:0.333747\n",
            "Will train until validation_0-error hasn't improved in 100 rounds.\n",
            "[100]\tvalidation_0-error:0.173499\n",
            "[200]\tvalidation_0-error:0.164803\n",
            "[300]\tvalidation_0-error:0.164389\n",
            "Stopping. Best iteration:\n",
            "[225]\tvalidation_0-error:0.162319\n",
            "\n",
            "Fold 4 : 0.6319189624711204\n",
            "\n",
            "\n",
            "roc_auc_score :  0.6331093231188452\n"
          ],
          "name": "stdout"
        }
      ]
    },
    {
      "cell_type": "code",
      "metadata": {
        "id": "G_yqdlAzd1HE"
      },
      "source": [
        "predictions = np.mean(test_oofs, axis=0)\n",
        "predtest = [int(round(i)) for i in predictions]\n",
        "sub_file.target = predtest\n",
        "sub_file.to_csv('newfoldxgb.csv',index=False) #0.65863 priv LB"
      ],
      "execution_count": 64,
      "outputs": []
    },
    {
      "cell_type": "code",
      "metadata": {
        "colab": {
          "base_uri": "https://localhost:8080/"
        },
        "id": "uZgdAwBpeRV8",
        "outputId": "08b29153-3218-4837-a21b-5a71f437815a"
      },
      "source": [
        "scores = 0\n",
        "test_oofs = []\n",
        "k = 8\n",
        "kf = StratifiedKFold(k)\n",
        "\n",
        "for i, (tr_idx, vr_idx) in enumerate(kf.split(train_n, train_n[target])):\n",
        "    xtrain, ytrain = train_n.loc[tr_idx, features], train_n.loc[tr_idx, target]\n",
        "    xval, yval = train_n.loc[vr_idx, features], train_n.loc[vr_idx, target]\n",
        "    \n",
        "    #scaler1.fit(xtrain)\n",
        "    \n",
        "    #xtrain = scaler1.transform(xtrain)\n",
        "    #xval = scaler1.transform(xval)\n",
        "    test = test_n[features]\n",
        "\n",
        "   # training and validation\n",
        "    model=XGBClassifier(scale_pos_weight=8.5922929, max_depth=12, \\\n",
        "                        learning_rate=0.163242, n_estimators=800, silent=True,\\\n",
        "                        metrics='auc',colsample_bylevel=0.8, reg_alpha=0.8)\n",
        "    model.fit(xtrain, ytrain, eval_set=[(xval,yval)], early_stopping_rounds=100,verbose=100)\n",
        "    pred = model.predict(xval)\n",
        "\n",
        "    #predicting on test set\n",
        "    predictions = model.predict(test)\n",
        "    score = roc_auc_score(yval, pred)\n",
        "    #\n",
        "    scores += score/k\n",
        "    test_oofs.append(predictions)\n",
        "\n",
        "    print('Fold {} : {}'.format(i, score))\n",
        "\n",
        "print()\n",
        "print()\n",
        "print('roc_auc_score : ', scores)"
      ],
      "execution_count": 65,
      "outputs": [
        {
          "output_type": "stream",
          "text": [
            "[0]\tvalidation_0-error:0.317881\n",
            "Will train until validation_0-error hasn't improved in 100 rounds.\n",
            "[100]\tvalidation_0-error:0.184106\n",
            "[200]\tvalidation_0-error:0.175497\n",
            "[300]\tvalidation_0-error:0.172848\n",
            "[400]\tvalidation_0-error:0.171523\n",
            "Stopping. Best iteration:\n",
            "[386]\tvalidation_0-error:0.170199\n",
            "\n",
            "Fold 0 : 0.6068946114126836\n",
            "[0]\tvalidation_0-error:0.309934\n",
            "Will train until validation_0-error hasn't improved in 100 rounds.\n",
            "[100]\tvalidation_0-error:0.165563\n",
            "[200]\tvalidation_0-error:0.163576\n",
            "Stopping. Best iteration:\n",
            "[114]\tvalidation_0-error:0.161589\n",
            "\n",
            "Fold 1 : 0.6449796438501257\n",
            "[0]\tvalidation_0-error:0.296026\n",
            "Will train until validation_0-error hasn't improved in 100 rounds.\n",
            "[100]\tvalidation_0-error:0.168212\n",
            "Stopping. Best iteration:\n",
            "[68]\tvalidation_0-error:0.165563\n",
            "\n",
            "Fold 2 : 0.6806525552760493\n",
            "[0]\tvalidation_0-error:0.309934\n",
            "Will train until validation_0-error hasn't improved in 100 rounds.\n",
            "[100]\tvalidation_0-error:0.162252\n",
            "[200]\tvalidation_0-error:0.156954\n",
            "[300]\tvalidation_0-error:0.156954\n",
            "[400]\tvalidation_0-error:0.155629\n",
            "Stopping. Best iteration:\n",
            "[350]\tvalidation_0-error:0.154305\n",
            "\n",
            "Fold 3 : 0.6325259830530916\n",
            "[0]\tvalidation_0-error:0.309934\n",
            "Will train until validation_0-error hasn't improved in 100 rounds.\n",
            "[100]\tvalidation_0-error:0.162252\n",
            "[200]\tvalidation_0-error:0.159603\n",
            "Stopping. Best iteration:\n",
            "[127]\tvalidation_0-error:0.158278\n",
            "\n",
            "Fold 4 : 0.6847941215411095\n",
            "[0]\tvalidation_0-error:0.319205\n",
            "Will train until validation_0-error hasn't improved in 100 rounds.\n",
            "[100]\tvalidation_0-error:0.166887\n",
            "[200]\tvalidation_0-error:0.161589\n",
            "Stopping. Best iteration:\n",
            "[120]\tvalidation_0-error:0.160265\n",
            "\n",
            "Fold 5 : 0.6433619091751622\n",
            "[0]\tvalidation_0-error:0.305298\n",
            "Will train until validation_0-error hasn't improved in 100 rounds.\n",
            "[100]\tvalidation_0-error:0.170861\n",
            "[200]\tvalidation_0-error:0.166887\n",
            "[300]\tvalidation_0-error:0.166225\n",
            "Stopping. Best iteration:\n",
            "[251]\tvalidation_0-error:0.165563\n",
            "\n",
            "Fold 6 : 0.6427206077055474\n",
            "[0]\tvalidation_0-error:0.309476\n",
            "Will train until validation_0-error hasn't improved in 100 rounds.\n",
            "[100]\tvalidation_0-error:0.16501\n",
            "[200]\tvalidation_0-error:0.156395\n",
            "[300]\tvalidation_0-error:0.15507\n",
            "Stopping. Best iteration:\n",
            "[273]\tvalidation_0-error:0.153082\n",
            "\n",
            "Fold 7 : 0.6362598182786394\n",
            "\n",
            "\n",
            "roc_auc_score :  0.6465236562865512\n"
          ],
          "name": "stdout"
        }
      ]
    },
    {
      "cell_type": "code",
      "metadata": {
        "id": "et0WHhN5esab"
      },
      "source": [
        "predictions = np.mean(test_oofs, axis=0)\n",
        "predtest = [int(round(i)) for i in predictions]\n",
        "sub_file.target = predtest\n",
        "sub_file.to_csv('newfoldxgb2.csv',index=False) # 0.658569 priv LB"
      ],
      "execution_count": 66,
      "outputs": []
    },
    {
      "cell_type": "markdown",
      "metadata": {
        "id": "CqM6cr_F-1mN"
      },
      "source": [
        "Stacking"
      ]
    },
    {
      "cell_type": "code",
      "metadata": {
        "id": "IuAX9gu9sxup"
      },
      "source": [
        "from sklearn.ensemble import VotingClassifier, RandomForestClassifier"
      ],
      "execution_count": 69,
      "outputs": []
    },
    {
      "cell_type": "code",
      "metadata": {
        "id": "nNw4HYbEy0PA"
      },
      "source": [
        "from lightgbm import LGBMClassifier"
      ],
      "execution_count": 70,
      "outputs": []
    },
    {
      "cell_type": "code",
      "metadata": {
        "id": "9EbctIxHy0VK"
      },
      "source": [
        "xgb1=XGBClassifier(scale_pos_weight=8.1922929, max_depth=10, \\\n",
        "                        learning_rate=0.143242, n_estimators=800, silent=True,\\\n",
        "                        metrics='auc',colsample_bylevel=0.8, reg_alpha=0.8)\n",
        "\n",
        "xgb2=XGBClassifier(scale_pos_weight=8.5922929, max_depth=12, \\\n",
        "                        learning_rate=0.163242, n_estimators=800, silent=True,\\\n",
        "                        metrics='auc',colsample_bylevel=0.8, reg_alpha=0.8)\n",
        "\n",
        "ctb1=CatBoostClassifier(class_weights=class_weight, n_estimators=800,\\\n",
        "                        eval_metric='AUC',max_depth=4,learning_rate=0.1,\n",
        "                              subsample=0.9,bootstrap_type='Bernoulli'\n",
        "                    ,allow_writing_files=False, metric_period=20)\n"
      ],
      "execution_count": 79,
      "outputs": []
    },
    {
      "cell_type": "code",
      "metadata": {
        "id": "HldjGYbZyjnJ"
      },
      "source": [
        "vcf = VotingClassifier(estimators=[('xgb1', xgb1),\\\n",
        "                                   ('xgb2', xgb2), ('ctb1', ctb1)], voting='soft')"
      ],
      "execution_count": 80,
      "outputs": []
    },
    {
      "cell_type": "code",
      "metadata": {
        "colab": {
          "base_uri": "https://localhost:8080/"
        },
        "id": "pKnVJ1P20kqK",
        "outputId": "44dbb6f2-f8f7-4b16-e564-538c52429490"
      },
      "source": [
        "scores = 0\n",
        "test_oofs = []\n",
        "k = 8\n",
        "kf = StratifiedKFold(k)\n",
        "\n",
        "for i, (tr_idx, vr_idx) in enumerate(kf.split(train_n, train_n[target])):\n",
        "    xtrain, ytrain = train_n.loc[tr_idx, features], train_n.loc[tr_idx, target]\n",
        "    xval, yval = train_n.loc[vr_idx, features], train_n.loc[vr_idx, target]\n",
        "    \n",
        "    test = test_n[features]\n",
        "    vcf.fit(xtrain,ytrain)\n",
        "\n",
        "    pred = vcf.predict(xval)\n",
        "\n",
        "    #predicting on test set\n",
        "    predictions = vcf.predict(test)\n",
        "    score = roc_auc_score(yval, pred)\n",
        "    #\n",
        "    scores += score/k\n",
        "    test_oofs.append(predictions)\n",
        "\n",
        "    print('Fold {} : {}'.format(i, score))\n",
        "\n",
        "print()\n",
        "print()\n",
        "print('roc_auc_score : ', scores)"
      ],
      "execution_count": 81,
      "outputs": [
        {
          "output_type": "stream",
          "text": [
            "0:\ttotal: 6.19ms\tremaining: 4.95s\n",
            "20:\ttotal: 114ms\tremaining: 4.21s\n",
            "40:\ttotal: 235ms\tremaining: 4.35s\n",
            "60:\ttotal: 341ms\tremaining: 4.13s\n",
            "80:\ttotal: 418ms\tremaining: 3.71s\n",
            "100:\ttotal: 497ms\tremaining: 3.44s\n",
            "120:\ttotal: 572ms\tremaining: 3.21s\n",
            "140:\ttotal: 645ms\tremaining: 3.02s\n",
            "160:\ttotal: 726ms\tremaining: 2.88s\n",
            "180:\ttotal: 800ms\tremaining: 2.73s\n",
            "200:\ttotal: 876ms\tremaining: 2.61s\n",
            "220:\ttotal: 985ms\tremaining: 2.58s\n",
            "240:\ttotal: 1.09s\tremaining: 2.53s\n",
            "260:\ttotal: 1.2s\tremaining: 2.49s\n",
            "280:\ttotal: 1.31s\tremaining: 2.42s\n",
            "300:\ttotal: 1.42s\tremaining: 2.35s\n",
            "320:\ttotal: 1.53s\tremaining: 2.28s\n",
            "340:\ttotal: 1.63s\tremaining: 2.2s\n",
            "360:\ttotal: 1.75s\tremaining: 2.13s\n",
            "380:\ttotal: 1.86s\tremaining: 2.04s\n",
            "400:\ttotal: 1.96s\tremaining: 1.95s\n",
            "420:\ttotal: 2.07s\tremaining: 1.86s\n",
            "440:\ttotal: 2.17s\tremaining: 1.77s\n",
            "460:\ttotal: 2.26s\tremaining: 1.66s\n",
            "480:\ttotal: 2.34s\tremaining: 1.55s\n",
            "500:\ttotal: 2.41s\tremaining: 1.44s\n",
            "520:\ttotal: 2.49s\tremaining: 1.33s\n",
            "540:\ttotal: 2.57s\tremaining: 1.23s\n",
            "560:\ttotal: 2.67s\tremaining: 1.14s\n",
            "580:\ttotal: 2.78s\tremaining: 1.05s\n",
            "600:\ttotal: 2.88s\tremaining: 954ms\n",
            "620:\ttotal: 2.99s\tremaining: 863ms\n",
            "640:\ttotal: 3.1s\tremaining: 769ms\n",
            "660:\ttotal: 3.21s\tremaining: 676ms\n",
            "680:\ttotal: 3.32s\tremaining: 580ms\n",
            "700:\ttotal: 3.42s\tremaining: 483ms\n",
            "720:\ttotal: 3.53s\tremaining: 387ms\n",
            "740:\ttotal: 3.63s\tremaining: 289ms\n",
            "760:\ttotal: 3.74s\tremaining: 192ms\n",
            "780:\ttotal: 3.84s\tremaining: 93.4ms\n",
            "799:\ttotal: 3.94s\tremaining: 0us\n",
            "Fold 0 : 0.6091122732688997\n",
            "0:\ttotal: 6.17ms\tremaining: 4.93s\n",
            "20:\ttotal: 116ms\tremaining: 4.32s\n",
            "40:\ttotal: 226ms\tremaining: 4.19s\n",
            "60:\ttotal: 332ms\tremaining: 4.02s\n",
            "80:\ttotal: 440ms\tremaining: 3.9s\n",
            "100:\ttotal: 552ms\tremaining: 3.82s\n",
            "120:\ttotal: 665ms\tremaining: 3.73s\n",
            "140:\ttotal: 772ms\tremaining: 3.61s\n",
            "160:\ttotal: 890ms\tremaining: 3.53s\n",
            "180:\ttotal: 993ms\tremaining: 3.4s\n",
            "200:\ttotal: 1.1s\tremaining: 3.27s\n",
            "220:\ttotal: 1.2s\tremaining: 3.15s\n",
            "240:\ttotal: 1.31s\tremaining: 3.04s\n",
            "260:\ttotal: 1.42s\tremaining: 2.93s\n",
            "280:\ttotal: 1.53s\tremaining: 2.83s\n",
            "300:\ttotal: 1.64s\tremaining: 2.71s\n",
            "320:\ttotal: 1.72s\tremaining: 2.57s\n",
            "340:\ttotal: 1.8s\tremaining: 2.43s\n",
            "360:\ttotal: 1.88s\tremaining: 2.28s\n",
            "380:\ttotal: 1.95s\tremaining: 2.14s\n",
            "400:\ttotal: 2.02s\tremaining: 2.02s\n",
            "420:\ttotal: 2.1s\tremaining: 1.89s\n",
            "440:\ttotal: 2.19s\tremaining: 1.78s\n",
            "460:\ttotal: 2.3s\tremaining: 1.69s\n",
            "480:\ttotal: 2.4s\tremaining: 1.59s\n",
            "500:\ttotal: 2.51s\tremaining: 1.5s\n",
            "520:\ttotal: 2.59s\tremaining: 1.39s\n",
            "540:\ttotal: 2.67s\tremaining: 1.28s\n",
            "560:\ttotal: 2.74s\tremaining: 1.17s\n",
            "580:\ttotal: 2.81s\tremaining: 1.06s\n",
            "600:\ttotal: 2.89s\tremaining: 956ms\n",
            "620:\ttotal: 2.99s\tremaining: 862ms\n",
            "640:\ttotal: 3.09s\tremaining: 767ms\n",
            "660:\ttotal: 3.21s\tremaining: 674ms\n",
            "680:\ttotal: 3.31s\tremaining: 578ms\n",
            "700:\ttotal: 3.42s\tremaining: 482ms\n",
            "720:\ttotal: 3.53s\tremaining: 386ms\n",
            "740:\ttotal: 3.61s\tremaining: 287ms\n",
            "760:\ttotal: 3.72s\tremaining: 190ms\n",
            "780:\ttotal: 3.82s\tremaining: 92.9ms\n",
            "799:\ttotal: 3.91s\tremaining: 0us\n",
            "Fold 1 : 0.6309785846683437\n",
            "0:\ttotal: 5.69ms\tremaining: 4.55s\n",
            "20:\ttotal: 116ms\tremaining: 4.32s\n",
            "40:\ttotal: 238ms\tremaining: 4.41s\n",
            "60:\ttotal: 344ms\tremaining: 4.17s\n",
            "80:\ttotal: 463ms\tremaining: 4.11s\n",
            "100:\ttotal: 564ms\tremaining: 3.91s\n",
            "120:\ttotal: 652ms\tremaining: 3.66s\n",
            "140:\ttotal: 762ms\tremaining: 3.56s\n",
            "160:\ttotal: 869ms\tremaining: 3.45s\n",
            "180:\ttotal: 979ms\tremaining: 3.35s\n",
            "200:\ttotal: 1.09s\tremaining: 3.24s\n",
            "220:\ttotal: 1.2s\tremaining: 3.14s\n",
            "240:\ttotal: 1.3s\tremaining: 3.02s\n",
            "260:\ttotal: 1.42s\tremaining: 2.92s\n",
            "280:\ttotal: 1.52s\tremaining: 2.81s\n",
            "300:\ttotal: 1.62s\tremaining: 2.69s\n",
            "320:\ttotal: 1.74s\tremaining: 2.59s\n",
            "340:\ttotal: 1.84s\tremaining: 2.47s\n",
            "360:\ttotal: 1.95s\tremaining: 2.37s\n",
            "380:\ttotal: 2.05s\tremaining: 2.26s\n",
            "400:\ttotal: 2.16s\tremaining: 2.15s\n",
            "420:\ttotal: 2.26s\tremaining: 2.04s\n",
            "440:\ttotal: 2.37s\tremaining: 1.93s\n",
            "460:\ttotal: 2.48s\tremaining: 1.82s\n",
            "480:\ttotal: 2.58s\tremaining: 1.71s\n",
            "500:\ttotal: 2.69s\tremaining: 1.61s\n",
            "520:\ttotal: 2.8s\tremaining: 1.5s\n",
            "540:\ttotal: 2.92s\tremaining: 1.4s\n",
            "560:\ttotal: 3.02s\tremaining: 1.29s\n",
            "580:\ttotal: 3.13s\tremaining: 1.18s\n",
            "600:\ttotal: 3.23s\tremaining: 1.07s\n",
            "620:\ttotal: 3.34s\tremaining: 962ms\n",
            "640:\ttotal: 3.45s\tremaining: 855ms\n",
            "660:\ttotal: 3.56s\tremaining: 748ms\n",
            "680:\ttotal: 3.66s\tremaining: 640ms\n",
            "700:\ttotal: 3.76s\tremaining: 531ms\n",
            "720:\ttotal: 3.86s\tremaining: 423ms\n",
            "740:\ttotal: 3.97s\tremaining: 316ms\n",
            "760:\ttotal: 4.07s\tremaining: 209ms\n",
            "780:\ttotal: 4.18s\tremaining: 102ms\n",
            "799:\ttotal: 4.27s\tremaining: 0us\n",
            "Fold 2 : 0.6408380775850655\n",
            "0:\ttotal: 5.36ms\tremaining: 4.28s\n",
            "20:\ttotal: 108ms\tremaining: 4.02s\n",
            "40:\ttotal: 204ms\tremaining: 3.78s\n",
            "60:\ttotal: 284ms\tremaining: 3.45s\n",
            "80:\ttotal: 359ms\tremaining: 3.19s\n",
            "100:\ttotal: 431ms\tremaining: 2.99s\n",
            "120:\ttotal: 510ms\tremaining: 2.86s\n",
            "140:\ttotal: 596ms\tremaining: 2.78s\n",
            "160:\ttotal: 704ms\tremaining: 2.79s\n",
            "180:\ttotal: 812ms\tremaining: 2.78s\n",
            "200:\ttotal: 919ms\tremaining: 2.74s\n",
            "220:\ttotal: 1.04s\tremaining: 2.72s\n",
            "240:\ttotal: 1.14s\tremaining: 2.64s\n",
            "260:\ttotal: 1.25s\tremaining: 2.58s\n",
            "280:\ttotal: 1.35s\tremaining: 2.5s\n",
            "300:\ttotal: 1.46s\tremaining: 2.43s\n",
            "320:\ttotal: 1.57s\tremaining: 2.34s\n",
            "340:\ttotal: 1.68s\tremaining: 2.26s\n",
            "360:\ttotal: 1.78s\tremaining: 2.17s\n",
            "380:\ttotal: 1.89s\tremaining: 2.08s\n",
            "400:\ttotal: 2s\tremaining: 1.99s\n",
            "420:\ttotal: 2.1s\tremaining: 1.9s\n",
            "440:\ttotal: 2.21s\tremaining: 1.8s\n",
            "460:\ttotal: 2.33s\tremaining: 1.71s\n",
            "480:\ttotal: 2.4s\tremaining: 1.59s\n",
            "500:\ttotal: 2.49s\tremaining: 1.49s\n",
            "520:\ttotal: 2.6s\tremaining: 1.39s\n",
            "540:\ttotal: 2.7s\tremaining: 1.29s\n",
            "560:\ttotal: 2.81s\tremaining: 1.2s\n",
            "580:\ttotal: 2.91s\tremaining: 1.1s\n",
            "600:\ttotal: 3.03s\tremaining: 1s\n",
            "620:\ttotal: 3.13s\tremaining: 903ms\n",
            "640:\ttotal: 3.24s\tremaining: 804ms\n",
            "660:\ttotal: 3.34s\tremaining: 703ms\n",
            "680:\ttotal: 3.46s\tremaining: 604ms\n",
            "700:\ttotal: 3.56s\tremaining: 504ms\n",
            "720:\ttotal: 3.67s\tremaining: 402ms\n",
            "740:\ttotal: 3.77s\tremaining: 301ms\n",
            "760:\ttotal: 3.89s\tremaining: 199ms\n",
            "780:\ttotal: 4s\tremaining: 97.2ms\n",
            "799:\ttotal: 4.1s\tremaining: 0us\n",
            "Fold 3 : 0.6388852111743678\n",
            "0:\ttotal: 4.38ms\tremaining: 3.5s\n",
            "20:\ttotal: 79.7ms\tremaining: 2.96s\n",
            "40:\ttotal: 152ms\tremaining: 2.81s\n",
            "60:\ttotal: 229ms\tremaining: 2.77s\n",
            "80:\ttotal: 310ms\tremaining: 2.75s\n",
            "100:\ttotal: 415ms\tremaining: 2.87s\n",
            "120:\ttotal: 523ms\tremaining: 2.94s\n",
            "140:\ttotal: 640ms\tremaining: 2.99s\n",
            "160:\ttotal: 754ms\tremaining: 2.99s\n",
            "180:\ttotal: 857ms\tremaining: 2.93s\n",
            "200:\ttotal: 968ms\tremaining: 2.88s\n",
            "220:\ttotal: 1.07s\tremaining: 2.81s\n",
            "240:\ttotal: 1.18s\tremaining: 2.74s\n",
            "260:\ttotal: 1.28s\tremaining: 2.65s\n",
            "280:\ttotal: 1.39s\tremaining: 2.57s\n",
            "300:\ttotal: 1.5s\tremaining: 2.48s\n",
            "320:\ttotal: 1.61s\tremaining: 2.4s\n",
            "340:\ttotal: 1.69s\tremaining: 2.27s\n",
            "360:\ttotal: 1.79s\tremaining: 2.18s\n",
            "380:\ttotal: 1.9s\tremaining: 2.09s\n",
            "400:\ttotal: 2s\tremaining: 1.99s\n",
            "420:\ttotal: 2.11s\tremaining: 1.9s\n",
            "440:\ttotal: 2.22s\tremaining: 1.8s\n",
            "460:\ttotal: 2.32s\tremaining: 1.71s\n",
            "480:\ttotal: 2.41s\tremaining: 1.6s\n",
            "500:\ttotal: 2.51s\tremaining: 1.5s\n",
            "520:\ttotal: 2.63s\tremaining: 1.41s\n",
            "540:\ttotal: 2.73s\tremaining: 1.31s\n",
            "560:\ttotal: 2.84s\tremaining: 1.21s\n",
            "580:\ttotal: 2.94s\tremaining: 1.11s\n",
            "600:\ttotal: 3.05s\tremaining: 1.01s\n",
            "620:\ttotal: 3.15s\tremaining: 908ms\n",
            "640:\ttotal: 3.26s\tremaining: 809ms\n",
            "660:\ttotal: 3.37s\tremaining: 708ms\n",
            "680:\ttotal: 3.46s\tremaining: 605ms\n",
            "700:\ttotal: 3.54s\tremaining: 500ms\n",
            "720:\ttotal: 3.61s\tremaining: 396ms\n",
            "740:\ttotal: 3.69s\tremaining: 294ms\n",
            "760:\ttotal: 3.76s\tremaining: 193ms\n",
            "780:\ttotal: 3.84s\tremaining: 93.3ms\n",
            "799:\ttotal: 3.92s\tremaining: 0us\n",
            "Fold 4 : 0.6789231100225077\n",
            "0:\ttotal: 6.74ms\tremaining: 5.38s\n",
            "20:\ttotal: 111ms\tremaining: 4.13s\n",
            "40:\ttotal: 222ms\tremaining: 4.11s\n",
            "60:\ttotal: 311ms\tremaining: 3.76s\n",
            "80:\ttotal: 414ms\tremaining: 3.68s\n",
            "100:\ttotal: 524ms\tremaining: 3.63s\n",
            "120:\ttotal: 632ms\tremaining: 3.54s\n",
            "140:\ttotal: 739ms\tremaining: 3.45s\n",
            "160:\ttotal: 843ms\tremaining: 3.35s\n",
            "180:\ttotal: 952ms\tremaining: 3.26s\n",
            "200:\ttotal: 1.07s\tremaining: 3.18s\n",
            "220:\ttotal: 1.18s\tremaining: 3.09s\n",
            "240:\ttotal: 1.28s\tremaining: 2.98s\n",
            "260:\ttotal: 1.37s\tremaining: 2.84s\n",
            "280:\ttotal: 1.45s\tremaining: 2.68s\n",
            "300:\ttotal: 1.53s\tremaining: 2.53s\n",
            "320:\ttotal: 1.6s\tremaining: 2.39s\n",
            "340:\ttotal: 1.69s\tremaining: 2.28s\n",
            "360:\ttotal: 1.77s\tremaining: 2.15s\n",
            "380:\ttotal: 1.84s\tremaining: 2.02s\n",
            "400:\ttotal: 1.91s\tremaining: 1.91s\n",
            "420:\ttotal: 2.03s\tremaining: 1.82s\n",
            "440:\ttotal: 2.15s\tremaining: 1.75s\n",
            "460:\ttotal: 2.25s\tremaining: 1.66s\n",
            "480:\ttotal: 2.36s\tremaining: 1.56s\n",
            "500:\ttotal: 2.46s\tremaining: 1.47s\n",
            "520:\ttotal: 2.56s\tremaining: 1.37s\n",
            "540:\ttotal: 2.67s\tremaining: 1.28s\n",
            "560:\ttotal: 2.78s\tremaining: 1.18s\n",
            "580:\ttotal: 2.88s\tremaining: 1.09s\n",
            "600:\ttotal: 2.99s\tremaining: 990ms\n",
            "620:\ttotal: 3.1s\tremaining: 894ms\n",
            "640:\ttotal: 3.2s\tremaining: 795ms\n",
            "660:\ttotal: 3.31s\tremaining: 696ms\n",
            "680:\ttotal: 3.42s\tremaining: 597ms\n",
            "700:\ttotal: 3.51s\tremaining: 496ms\n",
            "720:\ttotal: 3.62s\tremaining: 397ms\n",
            "740:\ttotal: 3.73s\tremaining: 297ms\n",
            "760:\ttotal: 3.84s\tremaining: 197ms\n",
            "780:\ttotal: 3.94s\tremaining: 95.9ms\n",
            "799:\ttotal: 4.05s\tremaining: 0us\n",
            "Fold 5 : 0.6348553554878856\n",
            "0:\ttotal: 6.15ms\tremaining: 4.92s\n",
            "20:\ttotal: 112ms\tremaining: 4.17s\n",
            "40:\ttotal: 221ms\tremaining: 4.09s\n",
            "60:\ttotal: 325ms\tremaining: 3.93s\n",
            "80:\ttotal: 444ms\tremaining: 3.94s\n",
            "100:\ttotal: 550ms\tremaining: 3.81s\n",
            "120:\ttotal: 659ms\tremaining: 3.7s\n",
            "140:\ttotal: 765ms\tremaining: 3.58s\n",
            "160:\ttotal: 876ms\tremaining: 3.48s\n",
            "180:\ttotal: 983ms\tremaining: 3.36s\n",
            "200:\ttotal: 1.09s\tremaining: 3.25s\n",
            "220:\ttotal: 1.19s\tremaining: 3.13s\n",
            "240:\ttotal: 1.3s\tremaining: 3.01s\n",
            "260:\ttotal: 1.41s\tremaining: 2.92s\n",
            "280:\ttotal: 1.52s\tremaining: 2.81s\n",
            "300:\ttotal: 1.63s\tremaining: 2.7s\n",
            "320:\ttotal: 1.74s\tremaining: 2.6s\n",
            "340:\ttotal: 1.85s\tremaining: 2.49s\n",
            "360:\ttotal: 1.96s\tremaining: 2.38s\n",
            "380:\ttotal: 2.06s\tremaining: 2.26s\n",
            "400:\ttotal: 2.17s\tremaining: 2.16s\n",
            "420:\ttotal: 2.27s\tremaining: 2.05s\n",
            "440:\ttotal: 2.39s\tremaining: 1.95s\n",
            "460:\ttotal: 2.5s\tremaining: 1.84s\n",
            "480:\ttotal: 2.62s\tremaining: 1.74s\n",
            "500:\ttotal: 2.72s\tremaining: 1.63s\n",
            "520:\ttotal: 2.85s\tremaining: 1.52s\n",
            "540:\ttotal: 2.95s\tremaining: 1.41s\n",
            "560:\ttotal: 3.06s\tremaining: 1.3s\n",
            "580:\ttotal: 3.16s\tremaining: 1.19s\n",
            "600:\ttotal: 3.26s\tremaining: 1.08s\n",
            "620:\ttotal: 3.37s\tremaining: 972ms\n",
            "640:\ttotal: 3.47s\tremaining: 861ms\n",
            "660:\ttotal: 3.57s\tremaining: 751ms\n",
            "680:\ttotal: 3.68s\tremaining: 643ms\n",
            "700:\ttotal: 3.78s\tremaining: 534ms\n",
            "720:\ttotal: 3.89s\tremaining: 427ms\n",
            "740:\ttotal: 4s\tremaining: 319ms\n",
            "760:\ttotal: 4.11s\tremaining: 210ms\n",
            "780:\ttotal: 4.21s\tremaining: 102ms\n",
            "799:\ttotal: 4.32s\tremaining: 0us\n",
            "Fold 6 : 0.6409497881636436\n",
            "0:\ttotal: 6.18ms\tremaining: 4.94s\n",
            "20:\ttotal: 103ms\tremaining: 3.81s\n",
            "40:\ttotal: 208ms\tremaining: 3.85s\n",
            "60:\ttotal: 314ms\tremaining: 3.81s\n",
            "80:\ttotal: 432ms\tremaining: 3.83s\n",
            "100:\ttotal: 547ms\tremaining: 3.78s\n",
            "120:\ttotal: 653ms\tremaining: 3.67s\n",
            "140:\ttotal: 766ms\tremaining: 3.58s\n",
            "160:\ttotal: 874ms\tremaining: 3.47s\n",
            "180:\ttotal: 976ms\tremaining: 3.34s\n",
            "200:\ttotal: 1.08s\tremaining: 3.23s\n",
            "220:\ttotal: 1.19s\tremaining: 3.12s\n",
            "240:\ttotal: 1.31s\tremaining: 3.03s\n",
            "260:\ttotal: 1.41s\tremaining: 2.91s\n",
            "280:\ttotal: 1.53s\tremaining: 2.83s\n",
            "300:\ttotal: 1.64s\tremaining: 2.72s\n",
            "320:\ttotal: 1.76s\tremaining: 2.63s\n",
            "340:\ttotal: 1.87s\tremaining: 2.51s\n",
            "360:\ttotal: 1.97s\tremaining: 2.4s\n",
            "380:\ttotal: 2.08s\tremaining: 2.29s\n",
            "400:\ttotal: 2.19s\tremaining: 2.18s\n",
            "420:\ttotal: 2.29s\tremaining: 2.06s\n",
            "440:\ttotal: 2.4s\tremaining: 1.95s\n",
            "460:\ttotal: 2.51s\tremaining: 1.85s\n",
            "480:\ttotal: 2.62s\tremaining: 1.74s\n",
            "500:\ttotal: 2.72s\tremaining: 1.62s\n",
            "520:\ttotal: 2.83s\tremaining: 1.51s\n",
            "540:\ttotal: 2.93s\tremaining: 1.4s\n",
            "560:\ttotal: 3.04s\tremaining: 1.29s\n",
            "580:\ttotal: 3.14s\tremaining: 1.18s\n",
            "600:\ttotal: 3.24s\tremaining: 1.07s\n",
            "620:\ttotal: 3.35s\tremaining: 965ms\n",
            "640:\ttotal: 3.45s\tremaining: 857ms\n",
            "660:\ttotal: 3.56s\tremaining: 749ms\n",
            "680:\ttotal: 3.67s\tremaining: 641ms\n",
            "700:\ttotal: 3.77s\tremaining: 533ms\n",
            "720:\ttotal: 3.88s\tremaining: 425ms\n",
            "740:\ttotal: 3.98s\tremaining: 317ms\n",
            "760:\ttotal: 4.09s\tremaining: 210ms\n",
            "780:\ttotal: 4.19s\tremaining: 102ms\n",
            "799:\ttotal: 4.29s\tremaining: 0us\n",
            "Fold 7 : 0.6357605837715503\n",
            "\n",
            "\n",
            "roc_auc_score :  0.6387878730177831\n"
          ],
          "name": "stdout"
        }
      ]
    },
    {
      "cell_type": "code",
      "metadata": {
        "id": "4Hk4JAcK1EWn"
      },
      "source": [
        "predictions = np.mean(test_oofs, axis=0)\n",
        "predtest = [int(round(i)) for i in predictions]\n",
        "sub_file.target = predtest\n",
        "sub_file.to_csv('vcf.csv',index=False) # 0.65957 priv LB"
      ],
      "execution_count": 82,
      "outputs": []
    },
    {
      "cell_type": "code",
      "metadata": {
        "id": "bZJp8qk0IqZL"
      },
      "source": [
        ""
      ],
      "execution_count": null,
      "outputs": []
    }
  ]
}